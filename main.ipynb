{
  "cells": [
    {
      "cell_type": "code",
      "source": [
        "!pip install py7zr\n",
        "!pip install lightfm\n"
      ],
      "metadata": {
        "colab": {
          "base_uri": "https://localhost:8080/"
        },
        "id": "q4UHZMoLP63f",
        "outputId": "8f4c4ec7-7447-4c69-a4ac-3d1c36fdc61d"
      },
      "execution_count": null,
      "outputs": [
        {
          "output_type": "stream",
          "name": "stdout",
          "text": [
            "Installing collected packages: lightfm\n",
            "Successfully installed lightfm-1.17\n"
          ]
        }
      ]
    },
    {
      "cell_type": "markdown",
      "metadata": {
        "id": "p_9G4KCp3Nqq"
      },
      "source": [
        "# Рекомендательная система"
      ]
    },
    {
      "cell_type": "markdown",
      "source": [],
      "metadata": {
        "id": "priK_wHRV6He"
      }
    },
    {
      "cell_type": "code",
      "execution_count": null,
      "metadata": {
        "id": "L7nH_6u83Nqr"
      },
      "outputs": [],
      "source": [
        "import os\n",
        "import py7zr"
      ]
    },
    {
      "cell_type": "code",
      "execution_count": 1,
      "metadata": {
        "colab": {
          "base_uri": "https://localhost:8080/"
        },
        "id": "qO_kmqXH3XZ7",
        "outputId": "b420caa3-13c9-4b5a-c873-934c3a12f003"
      },
      "outputs": [
        {
          "output_type": "stream",
          "name": "stdout",
          "text": [
            "Mounted at /content/drive\n"
          ]
        }
      ],
      "source": [
        "from google.colab import drive\n",
        "drive.mount('/content/drive')"
      ]
    },
    {
      "cell_type": "markdown",
      "metadata": {
        "id": "nTK6uZP_3Nqs"
      },
      "source": [
        "## Скачивание данных и feature engineering\n",
        "Скачиваем и разархивируем файлы с данными"
      ]
    },
    {
      "cell_type": "code",
      "execution_count": null,
      "metadata": {
        "id": "MwZ20W7b3Nqs"
      },
      "outputs": [],
      "source": [
        "# directory = \"..\\music_recsys\\kkbox-music-recommendation-challenge\"\n",
        "\n",
        "# for filename in os.listdir(directory):\n",
        "#     if filename.endswith(\".7z\"):\n",
        "#         file_path = os.path.join(directory, filename)\n",
        "#         extract_dir = os.path.splitext(file_path)[0]\n",
        "#         os.makedirs(extract_dir, exist_ok=True)\n",
        "#         with py7zr.SevenZipFile(file_path, mode='r') as archive:\n",
        "#             archive.extractall(path=extract_dir)\n",
        "#         print(f\"Extracted {filename} to {extract_dir}\")\n"
      ]
    },
    {
      "cell_type": "code",
      "execution_count": null,
      "metadata": {
        "id": "t53rvezA3Nqt"
      },
      "outputs": [],
      "source": [
        "import pandas as pd\n",
        "import numpy as np\n",
        "import matplotlib.pyplot as plt\n",
        "import seaborn as sns"
      ]
    },
    {
      "cell_type": "markdown",
      "metadata": {
        "id": "Pvx2SrWe3Nqt"
      },
      "source": [
        "Загрузка данных"
      ]
    },
    {
      "cell_type": "code",
      "execution_count": 5,
      "metadata": {
        "id": "wFeG1FoY3Nqt"
      },
      "outputs": [],
      "source": [
        "train = pd.read_csv(\"/content/drive/MyDrive/music_recsys/train.csv\")\n",
        "test = pd.read_csv(\"/content/drive/MyDrive/music_recsys/test.csv\")"
      ]
    },
    {
      "cell_type": "code",
      "execution_count": null,
      "metadata": {
        "colab": {
          "base_uri": "https://localhost:8080/"
        },
        "id": "vP_suDKf3Nqt",
        "outputId": "e8bc2562-24f5-4cd1-9a3b-700b3428929b"
      },
      "outputs": [
        {
          "output_type": "stream",
          "name": "stdout",
          "text": [
            "<class 'pandas.core.frame.DataFrame'>\n",
            "RangeIndex: 7377418 entries, 0 to 7377417\n",
            "Data columns (total 6 columns):\n",
            " #   Column              Dtype \n",
            "---  ------              ----- \n",
            " 0   msno                object\n",
            " 1   song_id             object\n",
            " 2   source_system_tab   object\n",
            " 3   source_screen_name  object\n",
            " 4   source_type         object\n",
            " 5   target              int64 \n",
            "dtypes: int64(1), object(5)\n",
            "memory usage: 337.7+ MB\n"
          ]
        }
      ],
      "source": [
        "train.info()"
      ]
    },
    {
      "cell_type": "markdown",
      "source": [
        "### Interactions"
      ],
      "metadata": {
        "id": "NvDlSLJhWAi0"
      }
    },
    {
      "cell_type": "markdown",
      "metadata": {
        "id": "4ctfQSBh3Nqu"
      },
      "source": [
        "Убедимся в том, что дубликатов в данных нет"
      ]
    },
    {
      "cell_type": "code",
      "execution_count": null,
      "metadata": {
        "colab": {
          "base_uri": "https://localhost:8080/"
        },
        "id": "RJojepnU3Nqt",
        "outputId": "f3d5c244-68a9-4786-e8ca-620ae67584b8"
      },
      "outputs": [
        {
          "output_type": "execute_result",
          "data": {
            "text/plain": [
              "0"
            ]
          },
          "metadata": {},
          "execution_count": 9
        }
      ],
      "source": [
        "train.duplicated(subset=['msno', 'song_id'], keep=False).sum()"
      ]
    },
    {
      "cell_type": "code",
      "execution_count": null,
      "metadata": {
        "colab": {
          "base_uri": "https://localhost:8080/"
        },
        "id": "lldq1WXE3Nqu",
        "outputId": "e3e1c830-e9c8-4414-9c40-e854dc0b8624"
      },
      "outputs": [
        {
          "output_type": "execute_result",
          "data": {
            "text/plain": [
              "0"
            ]
          },
          "metadata": {},
          "execution_count": 10
        }
      ],
      "source": [
        "test.duplicated(subset=['msno', 'song_id'], keep=False).sum()"
      ]
    },
    {
      "cell_type": "markdown",
      "source": [
        "Оставим только данные, связанные непосредственно со взаимодействиями пользователей"
      ],
      "metadata": {
        "id": "gH7hVc86hWVB"
      }
    },
    {
      "cell_type": "code",
      "source": [
        "interaction_features = ['msno', 'song_id']\n",
        "train = train[interaction_features]\n",
        "test = test[interaction_features]"
      ],
      "metadata": {
        "id": "X70dkVT6QJzp"
      },
      "execution_count": null,
      "outputs": []
    },
    {
      "cell_type": "markdown",
      "metadata": {
        "id": "nzoKJc1x3Nqv"
      },
      "source": [
        "### Songs"
      ]
    },
    {
      "cell_type": "code",
      "execution_count": null,
      "metadata": {
        "id": "GkpEdoYr-Peh"
      },
      "outputs": [],
      "source": [
        "songs = pd.read_csv(\"/content/drive/MyDrive/music_recsys/songs.csv\")"
      ]
    },
    {
      "cell_type": "code",
      "execution_count": null,
      "metadata": {
        "id": "A5MemoNR3Nqv",
        "colab": {
          "base_uri": "https://localhost:8080/",
          "height": 178
        },
        "outputId": "44c9e8e6-2e84-4f1e-ec6a-1e2bb04a9ad9"
      },
      "outputs": [
        {
          "output_type": "execute_result",
          "data": {
            "text/plain": [
              "                                        song_id  song_length genre_ids  \\\n",
              "0  CXoTN1eb7AI+DntdU1vbcwGRV4SCIDxZu+YD8JP8r4E=       247640       465   \n",
              "1  o0kFgae9QtnYgRkVPqLJwa05zIhRlUjfF7O1tDw0ZDU=       197328       444   \n",
              "2  DwVvVurfpuz+XPuFvucclVQEyPqcpUkHR0ne1RQzPs0=       231781       465   \n",
              "\n",
              "        artist_name                            composer lyricist  language  \n",
              "0  張信哲 (Jeff Chang)                                  董貞      何啟弘       3.0  \n",
              "1         BLACKPINK  TEDDY|  FUTURE BOUNCE|  Bekuh BOOM    TEDDY      31.0  \n",
              "2      SUPER JUNIOR                                 NaN      NaN      31.0  "
            ],
            "text/html": [
              "\n",
              "  <div id=\"df-1b76fd6e-3356-42fb-aaca-83409cb3274c\" class=\"colab-df-container\">\n",
              "    <div>\n",
              "<style scoped>\n",
              "    .dataframe tbody tr th:only-of-type {\n",
              "        vertical-align: middle;\n",
              "    }\n",
              "\n",
              "    .dataframe tbody tr th {\n",
              "        vertical-align: top;\n",
              "    }\n",
              "\n",
              "    .dataframe thead th {\n",
              "        text-align: right;\n",
              "    }\n",
              "</style>\n",
              "<table border=\"1\" class=\"dataframe\">\n",
              "  <thead>\n",
              "    <tr style=\"text-align: right;\">\n",
              "      <th></th>\n",
              "      <th>song_id</th>\n",
              "      <th>song_length</th>\n",
              "      <th>genre_ids</th>\n",
              "      <th>artist_name</th>\n",
              "      <th>composer</th>\n",
              "      <th>lyricist</th>\n",
              "      <th>language</th>\n",
              "    </tr>\n",
              "  </thead>\n",
              "  <tbody>\n",
              "    <tr>\n",
              "      <th>0</th>\n",
              "      <td>CXoTN1eb7AI+DntdU1vbcwGRV4SCIDxZu+YD8JP8r4E=</td>\n",
              "      <td>247640</td>\n",
              "      <td>465</td>\n",
              "      <td>張信哲 (Jeff Chang)</td>\n",
              "      <td>董貞</td>\n",
              "      <td>何啟弘</td>\n",
              "      <td>3.0</td>\n",
              "    </tr>\n",
              "    <tr>\n",
              "      <th>1</th>\n",
              "      <td>o0kFgae9QtnYgRkVPqLJwa05zIhRlUjfF7O1tDw0ZDU=</td>\n",
              "      <td>197328</td>\n",
              "      <td>444</td>\n",
              "      <td>BLACKPINK</td>\n",
              "      <td>TEDDY|  FUTURE BOUNCE|  Bekuh BOOM</td>\n",
              "      <td>TEDDY</td>\n",
              "      <td>31.0</td>\n",
              "    </tr>\n",
              "    <tr>\n",
              "      <th>2</th>\n",
              "      <td>DwVvVurfpuz+XPuFvucclVQEyPqcpUkHR0ne1RQzPs0=</td>\n",
              "      <td>231781</td>\n",
              "      <td>465</td>\n",
              "      <td>SUPER JUNIOR</td>\n",
              "      <td>NaN</td>\n",
              "      <td>NaN</td>\n",
              "      <td>31.0</td>\n",
              "    </tr>\n",
              "  </tbody>\n",
              "</table>\n",
              "</div>\n",
              "    <div class=\"colab-df-buttons\">\n",
              "\n",
              "  <div class=\"colab-df-container\">\n",
              "    <button class=\"colab-df-convert\" onclick=\"convertToInteractive('df-1b76fd6e-3356-42fb-aaca-83409cb3274c')\"\n",
              "            title=\"Convert this dataframe to an interactive table.\"\n",
              "            style=\"display:none;\">\n",
              "\n",
              "  <svg xmlns=\"http://www.w3.org/2000/svg\" height=\"24px\" viewBox=\"0 -960 960 960\">\n",
              "    <path d=\"M120-120v-720h720v720H120Zm60-500h600v-160H180v160Zm220 220h160v-160H400v160Zm0 220h160v-160H400v160ZM180-400h160v-160H180v160Zm440 0h160v-160H620v160ZM180-180h160v-160H180v160Zm440 0h160v-160H620v160Z\"/>\n",
              "  </svg>\n",
              "    </button>\n",
              "\n",
              "  <style>\n",
              "    .colab-df-container {\n",
              "      display:flex;\n",
              "      gap: 12px;\n",
              "    }\n",
              "\n",
              "    .colab-df-convert {\n",
              "      background-color: #E8F0FE;\n",
              "      border: none;\n",
              "      border-radius: 50%;\n",
              "      cursor: pointer;\n",
              "      display: none;\n",
              "      fill: #1967D2;\n",
              "      height: 32px;\n",
              "      padding: 0 0 0 0;\n",
              "      width: 32px;\n",
              "    }\n",
              "\n",
              "    .colab-df-convert:hover {\n",
              "      background-color: #E2EBFA;\n",
              "      box-shadow: 0px 1px 2px rgba(60, 64, 67, 0.3), 0px 1px 3px 1px rgba(60, 64, 67, 0.15);\n",
              "      fill: #174EA6;\n",
              "    }\n",
              "\n",
              "    .colab-df-buttons div {\n",
              "      margin-bottom: 4px;\n",
              "    }\n",
              "\n",
              "    [theme=dark] .colab-df-convert {\n",
              "      background-color: #3B4455;\n",
              "      fill: #D2E3FC;\n",
              "    }\n",
              "\n",
              "    [theme=dark] .colab-df-convert:hover {\n",
              "      background-color: #434B5C;\n",
              "      box-shadow: 0px 1px 3px 1px rgba(0, 0, 0, 0.15);\n",
              "      filter: drop-shadow(0px 1px 2px rgba(0, 0, 0, 0.3));\n",
              "      fill: #FFFFFF;\n",
              "    }\n",
              "  </style>\n",
              "\n",
              "    <script>\n",
              "      const buttonEl =\n",
              "        document.querySelector('#df-1b76fd6e-3356-42fb-aaca-83409cb3274c button.colab-df-convert');\n",
              "      buttonEl.style.display =\n",
              "        google.colab.kernel.accessAllowed ? 'block' : 'none';\n",
              "\n",
              "      async function convertToInteractive(key) {\n",
              "        const element = document.querySelector('#df-1b76fd6e-3356-42fb-aaca-83409cb3274c');\n",
              "        const dataTable =\n",
              "          await google.colab.kernel.invokeFunction('convertToInteractive',\n",
              "                                                    [key], {});\n",
              "        if (!dataTable) return;\n",
              "\n",
              "        const docLinkHtml = 'Like what you see? Visit the ' +\n",
              "          '<a target=\"_blank\" href=https://colab.research.google.com/notebooks/data_table.ipynb>data table notebook</a>'\n",
              "          + ' to learn more about interactive tables.';\n",
              "        element.innerHTML = '';\n",
              "        dataTable['output_type'] = 'display_data';\n",
              "        await google.colab.output.renderOutput(dataTable, element);\n",
              "        const docLink = document.createElement('div');\n",
              "        docLink.innerHTML = docLinkHtml;\n",
              "        element.appendChild(docLink);\n",
              "      }\n",
              "    </script>\n",
              "  </div>\n",
              "\n",
              "\n",
              "<div id=\"df-bdb6b262-95f7-4a9d-ab5f-ebc21113ddb2\">\n",
              "  <button class=\"colab-df-quickchart\" onclick=\"quickchart('df-bdb6b262-95f7-4a9d-ab5f-ebc21113ddb2')\"\n",
              "            title=\"Suggest charts\"\n",
              "            style=\"display:none;\">\n",
              "\n",
              "<svg xmlns=\"http://www.w3.org/2000/svg\" height=\"24px\"viewBox=\"0 0 24 24\"\n",
              "     width=\"24px\">\n",
              "    <g>\n",
              "        <path d=\"M19 3H5c-1.1 0-2 .9-2 2v14c0 1.1.9 2 2 2h14c1.1 0 2-.9 2-2V5c0-1.1-.9-2-2-2zM9 17H7v-7h2v7zm4 0h-2V7h2v10zm4 0h-2v-4h2v4z\"/>\n",
              "    </g>\n",
              "</svg>\n",
              "  </button>\n",
              "\n",
              "<style>\n",
              "  .colab-df-quickchart {\n",
              "      --bg-color: #E8F0FE;\n",
              "      --fill-color: #1967D2;\n",
              "      --hover-bg-color: #E2EBFA;\n",
              "      --hover-fill-color: #174EA6;\n",
              "      --disabled-fill-color: #AAA;\n",
              "      --disabled-bg-color: #DDD;\n",
              "  }\n",
              "\n",
              "  [theme=dark] .colab-df-quickchart {\n",
              "      --bg-color: #3B4455;\n",
              "      --fill-color: #D2E3FC;\n",
              "      --hover-bg-color: #434B5C;\n",
              "      --hover-fill-color: #FFFFFF;\n",
              "      --disabled-bg-color: #3B4455;\n",
              "      --disabled-fill-color: #666;\n",
              "  }\n",
              "\n",
              "  .colab-df-quickchart {\n",
              "    background-color: var(--bg-color);\n",
              "    border: none;\n",
              "    border-radius: 50%;\n",
              "    cursor: pointer;\n",
              "    display: none;\n",
              "    fill: var(--fill-color);\n",
              "    height: 32px;\n",
              "    padding: 0;\n",
              "    width: 32px;\n",
              "  }\n",
              "\n",
              "  .colab-df-quickchart:hover {\n",
              "    background-color: var(--hover-bg-color);\n",
              "    box-shadow: 0 1px 2px rgba(60, 64, 67, 0.3), 0 1px 3px 1px rgba(60, 64, 67, 0.15);\n",
              "    fill: var(--button-hover-fill-color);\n",
              "  }\n",
              "\n",
              "  .colab-df-quickchart-complete:disabled,\n",
              "  .colab-df-quickchart-complete:disabled:hover {\n",
              "    background-color: var(--disabled-bg-color);\n",
              "    fill: var(--disabled-fill-color);\n",
              "    box-shadow: none;\n",
              "  }\n",
              "\n",
              "  .colab-df-spinner {\n",
              "    border: 2px solid var(--fill-color);\n",
              "    border-color: transparent;\n",
              "    border-bottom-color: var(--fill-color);\n",
              "    animation:\n",
              "      spin 1s steps(1) infinite;\n",
              "  }\n",
              "\n",
              "  @keyframes spin {\n",
              "    0% {\n",
              "      border-color: transparent;\n",
              "      border-bottom-color: var(--fill-color);\n",
              "      border-left-color: var(--fill-color);\n",
              "    }\n",
              "    20% {\n",
              "      border-color: transparent;\n",
              "      border-left-color: var(--fill-color);\n",
              "      border-top-color: var(--fill-color);\n",
              "    }\n",
              "    30% {\n",
              "      border-color: transparent;\n",
              "      border-left-color: var(--fill-color);\n",
              "      border-top-color: var(--fill-color);\n",
              "      border-right-color: var(--fill-color);\n",
              "    }\n",
              "    40% {\n",
              "      border-color: transparent;\n",
              "      border-right-color: var(--fill-color);\n",
              "      border-top-color: var(--fill-color);\n",
              "    }\n",
              "    60% {\n",
              "      border-color: transparent;\n",
              "      border-right-color: var(--fill-color);\n",
              "    }\n",
              "    80% {\n",
              "      border-color: transparent;\n",
              "      border-right-color: var(--fill-color);\n",
              "      border-bottom-color: var(--fill-color);\n",
              "    }\n",
              "    90% {\n",
              "      border-color: transparent;\n",
              "      border-bottom-color: var(--fill-color);\n",
              "    }\n",
              "  }\n",
              "</style>\n",
              "\n",
              "  <script>\n",
              "    async function quickchart(key) {\n",
              "      const quickchartButtonEl =\n",
              "        document.querySelector('#' + key + ' button');\n",
              "      quickchartButtonEl.disabled = true;  // To prevent multiple clicks.\n",
              "      quickchartButtonEl.classList.add('colab-df-spinner');\n",
              "      try {\n",
              "        const charts = await google.colab.kernel.invokeFunction(\n",
              "            'suggestCharts', [key], {});\n",
              "      } catch (error) {\n",
              "        console.error('Error during call to suggestCharts:', error);\n",
              "      }\n",
              "      quickchartButtonEl.classList.remove('colab-df-spinner');\n",
              "      quickchartButtonEl.classList.add('colab-df-quickchart-complete');\n",
              "    }\n",
              "    (() => {\n",
              "      let quickchartButtonEl =\n",
              "        document.querySelector('#df-bdb6b262-95f7-4a9d-ab5f-ebc21113ddb2 button');\n",
              "      quickchartButtonEl.style.display =\n",
              "        google.colab.kernel.accessAllowed ? 'block' : 'none';\n",
              "    })();\n",
              "  </script>\n",
              "</div>\n",
              "\n",
              "    </div>\n",
              "  </div>\n"
            ],
            "application/vnd.google.colaboratory.intrinsic+json": {
              "type": "dataframe",
              "variable_name": "songs"
            }
          },
          "metadata": {},
          "execution_count": 13
        }
      ],
      "source": [
        "songs.head(3)"
      ]
    },
    {
      "cell_type": "code",
      "execution_count": null,
      "metadata": {
        "id": "qhBcFJJM3Nqv",
        "colab": {
          "base_uri": "https://localhost:8080/"
        },
        "outputId": "76c336b6-fda4-4f64-ad5d-01f667e49282"
      },
      "outputs": [
        {
          "output_type": "stream",
          "name": "stdout",
          "text": [
            "<class 'pandas.core.frame.DataFrame'>\n",
            "RangeIndex: 2296320 entries, 0 to 2296319\n",
            "Data columns (total 7 columns):\n",
            " #   Column       Dtype  \n",
            "---  ------       -----  \n",
            " 0   song_id      object \n",
            " 1   song_length  int64  \n",
            " 2   genre_ids    object \n",
            " 3   artist_name  object \n",
            " 4   composer     object \n",
            " 5   lyricist     object \n",
            " 6   language     float64\n",
            "dtypes: float64(1), int64(1), object(5)\n",
            "memory usage: 122.6+ MB\n"
          ]
        }
      ],
      "source": [
        "songs.info()"
      ]
    },
    {
      "cell_type": "code",
      "execution_count": null,
      "metadata": {
        "colab": {
          "base_uri": "https://localhost:8080/"
        },
        "id": "dT0W90-T3Nqv",
        "outputId": "eff6bf59-2e39-465f-b615-5abfe6435000"
      },
      "outputs": [
        {
          "output_type": "execute_result",
          "data": {
            "text/plain": [
              "song_id        2296320\n",
              "song_length     146534\n",
              "genre_ids         1045\n",
              "artist_name     222363\n",
              "composer        329822\n",
              "lyricist        110924\n",
              "language            10\n",
              "dtype: int64"
            ]
          },
          "metadata": {},
          "execution_count": 15
        }
      ],
      "source": [
        "songs.nunique()"
      ]
    },
    {
      "cell_type": "code",
      "execution_count": null,
      "metadata": {
        "colab": {
          "base_uri": "https://localhost:8080/"
        },
        "id": "gpkBi09A3Nqw",
        "outputId": "ecb1a327-1de0-402c-d532-be2bc19d461d"
      },
      "outputs": [
        {
          "output_type": "execute_result",
          "data": {
            "text/plain": [
              "language\n",
              " 52.0    1336694\n",
              "-1.0      639467\n",
              " 3.0      106295\n",
              " 17.0      92518\n",
              " 24.0      41744\n",
              " 31.0      39201\n",
              " 10.0      15482\n",
              " 45.0      14435\n",
              " 59.0       8098\n",
              " 38.0       2385\n",
              "Name: count, dtype: int64"
            ]
          },
          "metadata": {},
          "execution_count": 16
        }
      ],
      "source": [
        "songs['language'].value_counts()"
      ]
    },
    {
      "cell_type": "code",
      "execution_count": null,
      "metadata": {
        "id": "puBBvhHr3Nqw"
      },
      "outputs": [],
      "source": [
        "songs['language'].fillna(52, inplace=True)"
      ]
    },
    {
      "cell_type": "code",
      "execution_count": null,
      "metadata": {
        "id": "PZDiPg_73Nqw"
      },
      "outputs": [],
      "source": [
        "songs['language'] = songs['language'].astype(str)"
      ]
    },
    {
      "cell_type": "code",
      "source": [
        "def count_genres(n):\n",
        "  n = str(n)\n",
        "  return len(n.split('|'))\n",
        "songs['num_genres'] = songs['genre_ids'].apply(count_genres)"
      ],
      "metadata": {
        "id": "FRDN5NmF2BYv"
      },
      "execution_count": null,
      "outputs": []
    },
    {
      "cell_type": "code",
      "source": [
        "songs['genre_ids'] = songs['genre_ids'].fillna('genre_unknown').astype(str)"
      ],
      "metadata": {
        "id": "u4kK109S42_T"
      },
      "execution_count": null,
      "outputs": []
    },
    {
      "cell_type": "code",
      "source": [
        "songs['artist_name'] = songs['artist_name'].fillna('artist_unknown').str.lower()\n",
        "songs['lyrycist'] = songs['lyricist'].fillna('lyricist_unknown').str.lower()\n",
        "songs['composer'] = songs['composer'].fillna('composer_unknown').str.lower()"
      ],
      "metadata": {
        "id": "Pgx7cQ9ARDuM"
      },
      "execution_count": null,
      "outputs": []
    },
    {
      "cell_type": "markdown",
      "source": [
        "Длина песни слабо характеризует предпочтения пользователей, лучше избавиться от этого признака"
      ],
      "metadata": {
        "id": "b3PniPqZhir6"
      }
    },
    {
      "cell_type": "code",
      "source": [
        "songs = songs[['song_id', 'genre_ids', 'artist_name', 'composer', 'lyrycist', 'language']]"
      ],
      "metadata": {
        "id": "lQrq-9vHSbOu"
      },
      "execution_count": null,
      "outputs": []
    },
    {
      "cell_type": "code",
      "source": [
        "songs.head()"
      ],
      "metadata": {
        "colab": {
          "base_uri": "https://localhost:8080/",
          "height": 206
        },
        "id": "Xo47ydNuRm9x",
        "outputId": "96d42689-aa33-45a0-d172-8ac0f3e00843"
      },
      "execution_count": null,
      "outputs": [
        {
          "output_type": "execute_result",
          "data": {
            "text/plain": [
              "                                        song_id genre_ids       artist_name  \\\n",
              "0  CXoTN1eb7AI+DntdU1vbcwGRV4SCIDxZu+YD8JP8r4E=       465  張信哲 (jeff chang)   \n",
              "1  o0kFgae9QtnYgRkVPqLJwa05zIhRlUjfF7O1tDw0ZDU=       444         blackpink   \n",
              "2  DwVvVurfpuz+XPuFvucclVQEyPqcpUkHR0ne1RQzPs0=       465      super junior   \n",
              "3  dKMBWoZyScdxSkihKG+Vf47nc18N9q4m58+b4e7dSSE=       465             s.h.e   \n",
              "4  W3bqWd3T+VeHFzHAUfARgW9AvVRaF4N5Yzm4Mr6Eo/o=       726              貴族精選   \n",
              "\n",
              "                             composer          lyrycist language  \n",
              "0                                  董貞               何啟弘      3.0  \n",
              "1  teddy|  future bounce|  bekuh boom             teddy     31.0  \n",
              "2                    composer_unknown  lyricist_unknown     31.0  \n",
              "3                                 湯小康               徐世珍      3.0  \n",
              "4                         traditional       traditional     52.0  "
            ],
            "text/html": [
              "\n",
              "  <div id=\"df-2b56c193-01ed-4aac-9b13-aeed3d5cb2e2\" class=\"colab-df-container\">\n",
              "    <div>\n",
              "<style scoped>\n",
              "    .dataframe tbody tr th:only-of-type {\n",
              "        vertical-align: middle;\n",
              "    }\n",
              "\n",
              "    .dataframe tbody tr th {\n",
              "        vertical-align: top;\n",
              "    }\n",
              "\n",
              "    .dataframe thead th {\n",
              "        text-align: right;\n",
              "    }\n",
              "</style>\n",
              "<table border=\"1\" class=\"dataframe\">\n",
              "  <thead>\n",
              "    <tr style=\"text-align: right;\">\n",
              "      <th></th>\n",
              "      <th>song_id</th>\n",
              "      <th>genre_ids</th>\n",
              "      <th>artist_name</th>\n",
              "      <th>composer</th>\n",
              "      <th>lyrycist</th>\n",
              "      <th>language</th>\n",
              "    </tr>\n",
              "  </thead>\n",
              "  <tbody>\n",
              "    <tr>\n",
              "      <th>0</th>\n",
              "      <td>CXoTN1eb7AI+DntdU1vbcwGRV4SCIDxZu+YD8JP8r4E=</td>\n",
              "      <td>465</td>\n",
              "      <td>張信哲 (jeff chang)</td>\n",
              "      <td>董貞</td>\n",
              "      <td>何啟弘</td>\n",
              "      <td>3.0</td>\n",
              "    </tr>\n",
              "    <tr>\n",
              "      <th>1</th>\n",
              "      <td>o0kFgae9QtnYgRkVPqLJwa05zIhRlUjfF7O1tDw0ZDU=</td>\n",
              "      <td>444</td>\n",
              "      <td>blackpink</td>\n",
              "      <td>teddy|  future bounce|  bekuh boom</td>\n",
              "      <td>teddy</td>\n",
              "      <td>31.0</td>\n",
              "    </tr>\n",
              "    <tr>\n",
              "      <th>2</th>\n",
              "      <td>DwVvVurfpuz+XPuFvucclVQEyPqcpUkHR0ne1RQzPs0=</td>\n",
              "      <td>465</td>\n",
              "      <td>super junior</td>\n",
              "      <td>composer_unknown</td>\n",
              "      <td>lyricist_unknown</td>\n",
              "      <td>31.0</td>\n",
              "    </tr>\n",
              "    <tr>\n",
              "      <th>3</th>\n",
              "      <td>dKMBWoZyScdxSkihKG+Vf47nc18N9q4m58+b4e7dSSE=</td>\n",
              "      <td>465</td>\n",
              "      <td>s.h.e</td>\n",
              "      <td>湯小康</td>\n",
              "      <td>徐世珍</td>\n",
              "      <td>3.0</td>\n",
              "    </tr>\n",
              "    <tr>\n",
              "      <th>4</th>\n",
              "      <td>W3bqWd3T+VeHFzHAUfARgW9AvVRaF4N5Yzm4Mr6Eo/o=</td>\n",
              "      <td>726</td>\n",
              "      <td>貴族精選</td>\n",
              "      <td>traditional</td>\n",
              "      <td>traditional</td>\n",
              "      <td>52.0</td>\n",
              "    </tr>\n",
              "  </tbody>\n",
              "</table>\n",
              "</div>\n",
              "    <div class=\"colab-df-buttons\">\n",
              "\n",
              "  <div class=\"colab-df-container\">\n",
              "    <button class=\"colab-df-convert\" onclick=\"convertToInteractive('df-2b56c193-01ed-4aac-9b13-aeed3d5cb2e2')\"\n",
              "            title=\"Convert this dataframe to an interactive table.\"\n",
              "            style=\"display:none;\">\n",
              "\n",
              "  <svg xmlns=\"http://www.w3.org/2000/svg\" height=\"24px\" viewBox=\"0 -960 960 960\">\n",
              "    <path d=\"M120-120v-720h720v720H120Zm60-500h600v-160H180v160Zm220 220h160v-160H400v160Zm0 220h160v-160H400v160ZM180-400h160v-160H180v160Zm440 0h160v-160H620v160ZM180-180h160v-160H180v160Zm440 0h160v-160H620v160Z\"/>\n",
              "  </svg>\n",
              "    </button>\n",
              "\n",
              "  <style>\n",
              "    .colab-df-container {\n",
              "      display:flex;\n",
              "      gap: 12px;\n",
              "    }\n",
              "\n",
              "    .colab-df-convert {\n",
              "      background-color: #E8F0FE;\n",
              "      border: none;\n",
              "      border-radius: 50%;\n",
              "      cursor: pointer;\n",
              "      display: none;\n",
              "      fill: #1967D2;\n",
              "      height: 32px;\n",
              "      padding: 0 0 0 0;\n",
              "      width: 32px;\n",
              "    }\n",
              "\n",
              "    .colab-df-convert:hover {\n",
              "      background-color: #E2EBFA;\n",
              "      box-shadow: 0px 1px 2px rgba(60, 64, 67, 0.3), 0px 1px 3px 1px rgba(60, 64, 67, 0.15);\n",
              "      fill: #174EA6;\n",
              "    }\n",
              "\n",
              "    .colab-df-buttons div {\n",
              "      margin-bottom: 4px;\n",
              "    }\n",
              "\n",
              "    [theme=dark] .colab-df-convert {\n",
              "      background-color: #3B4455;\n",
              "      fill: #D2E3FC;\n",
              "    }\n",
              "\n",
              "    [theme=dark] .colab-df-convert:hover {\n",
              "      background-color: #434B5C;\n",
              "      box-shadow: 0px 1px 3px 1px rgba(0, 0, 0, 0.15);\n",
              "      filter: drop-shadow(0px 1px 2px rgba(0, 0, 0, 0.3));\n",
              "      fill: #FFFFFF;\n",
              "    }\n",
              "  </style>\n",
              "\n",
              "    <script>\n",
              "      const buttonEl =\n",
              "        document.querySelector('#df-2b56c193-01ed-4aac-9b13-aeed3d5cb2e2 button.colab-df-convert');\n",
              "      buttonEl.style.display =\n",
              "        google.colab.kernel.accessAllowed ? 'block' : 'none';\n",
              "\n",
              "      async function convertToInteractive(key) {\n",
              "        const element = document.querySelector('#df-2b56c193-01ed-4aac-9b13-aeed3d5cb2e2');\n",
              "        const dataTable =\n",
              "          await google.colab.kernel.invokeFunction('convertToInteractive',\n",
              "                                                    [key], {});\n",
              "        if (!dataTable) return;\n",
              "\n",
              "        const docLinkHtml = 'Like what you see? Visit the ' +\n",
              "          '<a target=\"_blank\" href=https://colab.research.google.com/notebooks/data_table.ipynb>data table notebook</a>'\n",
              "          + ' to learn more about interactive tables.';\n",
              "        element.innerHTML = '';\n",
              "        dataTable['output_type'] = 'display_data';\n",
              "        await google.colab.output.renderOutput(dataTable, element);\n",
              "        const docLink = document.createElement('div');\n",
              "        docLink.innerHTML = docLinkHtml;\n",
              "        element.appendChild(docLink);\n",
              "      }\n",
              "    </script>\n",
              "  </div>\n",
              "\n",
              "\n",
              "<div id=\"df-002ea0f3-2e79-48d3-8120-46abb39857f7\">\n",
              "  <button class=\"colab-df-quickchart\" onclick=\"quickchart('df-002ea0f3-2e79-48d3-8120-46abb39857f7')\"\n",
              "            title=\"Suggest charts\"\n",
              "            style=\"display:none;\">\n",
              "\n",
              "<svg xmlns=\"http://www.w3.org/2000/svg\" height=\"24px\"viewBox=\"0 0 24 24\"\n",
              "     width=\"24px\">\n",
              "    <g>\n",
              "        <path d=\"M19 3H5c-1.1 0-2 .9-2 2v14c0 1.1.9 2 2 2h14c1.1 0 2-.9 2-2V5c0-1.1-.9-2-2-2zM9 17H7v-7h2v7zm4 0h-2V7h2v10zm4 0h-2v-4h2v4z\"/>\n",
              "    </g>\n",
              "</svg>\n",
              "  </button>\n",
              "\n",
              "<style>\n",
              "  .colab-df-quickchart {\n",
              "      --bg-color: #E8F0FE;\n",
              "      --fill-color: #1967D2;\n",
              "      --hover-bg-color: #E2EBFA;\n",
              "      --hover-fill-color: #174EA6;\n",
              "      --disabled-fill-color: #AAA;\n",
              "      --disabled-bg-color: #DDD;\n",
              "  }\n",
              "\n",
              "  [theme=dark] .colab-df-quickchart {\n",
              "      --bg-color: #3B4455;\n",
              "      --fill-color: #D2E3FC;\n",
              "      --hover-bg-color: #434B5C;\n",
              "      --hover-fill-color: #FFFFFF;\n",
              "      --disabled-bg-color: #3B4455;\n",
              "      --disabled-fill-color: #666;\n",
              "  }\n",
              "\n",
              "  .colab-df-quickchart {\n",
              "    background-color: var(--bg-color);\n",
              "    border: none;\n",
              "    border-radius: 50%;\n",
              "    cursor: pointer;\n",
              "    display: none;\n",
              "    fill: var(--fill-color);\n",
              "    height: 32px;\n",
              "    padding: 0;\n",
              "    width: 32px;\n",
              "  }\n",
              "\n",
              "  .colab-df-quickchart:hover {\n",
              "    background-color: var(--hover-bg-color);\n",
              "    box-shadow: 0 1px 2px rgba(60, 64, 67, 0.3), 0 1px 3px 1px rgba(60, 64, 67, 0.15);\n",
              "    fill: var(--button-hover-fill-color);\n",
              "  }\n",
              "\n",
              "  .colab-df-quickchart-complete:disabled,\n",
              "  .colab-df-quickchart-complete:disabled:hover {\n",
              "    background-color: var(--disabled-bg-color);\n",
              "    fill: var(--disabled-fill-color);\n",
              "    box-shadow: none;\n",
              "  }\n",
              "\n",
              "  .colab-df-spinner {\n",
              "    border: 2px solid var(--fill-color);\n",
              "    border-color: transparent;\n",
              "    border-bottom-color: var(--fill-color);\n",
              "    animation:\n",
              "      spin 1s steps(1) infinite;\n",
              "  }\n",
              "\n",
              "  @keyframes spin {\n",
              "    0% {\n",
              "      border-color: transparent;\n",
              "      border-bottom-color: var(--fill-color);\n",
              "      border-left-color: var(--fill-color);\n",
              "    }\n",
              "    20% {\n",
              "      border-color: transparent;\n",
              "      border-left-color: var(--fill-color);\n",
              "      border-top-color: var(--fill-color);\n",
              "    }\n",
              "    30% {\n",
              "      border-color: transparent;\n",
              "      border-left-color: var(--fill-color);\n",
              "      border-top-color: var(--fill-color);\n",
              "      border-right-color: var(--fill-color);\n",
              "    }\n",
              "    40% {\n",
              "      border-color: transparent;\n",
              "      border-right-color: var(--fill-color);\n",
              "      border-top-color: var(--fill-color);\n",
              "    }\n",
              "    60% {\n",
              "      border-color: transparent;\n",
              "      border-right-color: var(--fill-color);\n",
              "    }\n",
              "    80% {\n",
              "      border-color: transparent;\n",
              "      border-right-color: var(--fill-color);\n",
              "      border-bottom-color: var(--fill-color);\n",
              "    }\n",
              "    90% {\n",
              "      border-color: transparent;\n",
              "      border-bottom-color: var(--fill-color);\n",
              "    }\n",
              "  }\n",
              "</style>\n",
              "\n",
              "  <script>\n",
              "    async function quickchart(key) {\n",
              "      const quickchartButtonEl =\n",
              "        document.querySelector('#' + key + ' button');\n",
              "      quickchartButtonEl.disabled = true;  // To prevent multiple clicks.\n",
              "      quickchartButtonEl.classList.add('colab-df-spinner');\n",
              "      try {\n",
              "        const charts = await google.colab.kernel.invokeFunction(\n",
              "            'suggestCharts', [key], {});\n",
              "      } catch (error) {\n",
              "        console.error('Error during call to suggestCharts:', error);\n",
              "      }\n",
              "      quickchartButtonEl.classList.remove('colab-df-spinner');\n",
              "      quickchartButtonEl.classList.add('colab-df-quickchart-complete');\n",
              "    }\n",
              "    (() => {\n",
              "      let quickchartButtonEl =\n",
              "        document.querySelector('#df-002ea0f3-2e79-48d3-8120-46abb39857f7 button');\n",
              "      quickchartButtonEl.style.display =\n",
              "        google.colab.kernel.accessAllowed ? 'block' : 'none';\n",
              "    })();\n",
              "  </script>\n",
              "</div>\n",
              "\n",
              "    </div>\n",
              "  </div>\n"
            ],
            "application/vnd.google.colaboratory.intrinsic+json": {
              "type": "dataframe",
              "variable_name": "songs"
            }
          },
          "metadata": {},
          "execution_count": 23
        }
      ]
    },
    {
      "cell_type": "markdown",
      "source": [
        "### Members"
      ],
      "metadata": {
        "id": "el-_I84w5G7P"
      }
    },
    {
      "cell_type": "code",
      "source": [
        "members = pd.read_csv(\"/content/drive/MyDrive/music_recsys/members.csv\")"
      ],
      "metadata": {
        "id": "j2nSy-bJ5Lpm"
      },
      "execution_count": null,
      "outputs": []
    },
    {
      "cell_type": "markdown",
      "source": [
        "Предпочтения различаются у разных поколений, чтобы снизить кол-во признаков разделим возраст по поколениям"
      ],
      "metadata": {
        "id": "e8CgnwaPh3M9"
      }
    },
    {
      "cell_type": "code",
      "source": [
        "def get_age(n):\n",
        "  if n < 10: return '0_10'\n",
        "  elif 10 <= n < 20: return '10_20'\n",
        "  elif 20 <= n < 30: return '20_30'\n",
        "  elif 30 <= n < 40: return '30_40'\n",
        "  elif 40 <= n < 50: return '40_50'\n",
        "  elif 50 <= n < 60: return '50_60'\n",
        "  else: return '60+'\n",
        "\n",
        "members['bd'] = members['bd'].apply(int).apply(get_age)"
      ],
      "metadata": {
        "id": "46gQ18QO5V_M"
      },
      "execution_count": null,
      "outputs": []
    },
    {
      "cell_type": "code",
      "source": [
        "def get_sex(n):\n",
        "  if n == 'male': return n\n",
        "  elif n == 'female': return n\n",
        "  return 'sex_unknown'\n",
        "\n",
        "members['gender'] = members['gender'].apply(get_sex)"
      ],
      "metadata": {
        "id": "cdj5jR8C6VHY"
      },
      "execution_count": null,
      "outputs": []
    },
    {
      "cell_type": "code",
      "source": [
        "members['city'] = members['city'].astype(str)"
      ],
      "metadata": {
        "id": "ldKA9QWd6rTB"
      },
      "execution_count": null,
      "outputs": []
    },
    {
      "cell_type": "markdown",
      "source": [
        "Оставим признаки, которые могут влиять на предпочтения пользователей"
      ],
      "metadata": {
        "id": "SDdHvA5ahvKW"
      }
    },
    {
      "cell_type": "code",
      "source": [
        "members = members[['msno', 'city', 'bd', 'gender']]"
      ],
      "metadata": {
        "id": "r12wrrit6x-g"
      },
      "execution_count": null,
      "outputs": []
    },
    {
      "cell_type": "code",
      "source": [
        "members.info()"
      ],
      "metadata": {
        "colab": {
          "base_uri": "https://localhost:8080/"
        },
        "id": "RaDaiW-l6M8R",
        "outputId": "6fce10f0-8450-45f2-c47d-29a501bc6390"
      },
      "execution_count": null,
      "outputs": [
        {
          "output_type": "stream",
          "name": "stdout",
          "text": [
            "<class 'pandas.core.frame.DataFrame'>\n",
            "RangeIndex: 34403 entries, 0 to 34402\n",
            "Data columns (total 4 columns):\n",
            " #   Column  Non-Null Count  Dtype \n",
            "---  ------  --------------  ----- \n",
            " 0   msno    34403 non-null  object\n",
            " 1   city    34403 non-null  object\n",
            " 2   bd      34403 non-null  object\n",
            " 3   gender  34403 non-null  object\n",
            "dtypes: object(4)\n",
            "memory usage: 1.1+ MB\n"
          ]
        }
      ]
    },
    {
      "cell_type": "code",
      "source": [
        "interaction_users = train['msno'].unique()\n",
        "\n",
        "common_users = len(np.intersect1d(interaction_users, members['msno']))\n",
        "users_only_in_interaction = len(np.setdiff1d(interaction_users, members['msno']))\n",
        "users_only_features = len(np.setdiff1d(members['msno'], interaction_users))\n",
        "total_users = common_users + users_only_in_interaction + users_only_features\n",
        "print(f'Кол-во пользователей - {total_users}')\n",
        "print(f'Кол-во пользователей c взаимодействиями и фичами - {common_users} ({common_users / total_users * 100:.2f}%)')\n",
        "print(f'Кол-во пользователей только c взаимодействиями - {users_only_in_interaction} ({users_only_in_interaction / total_users * 100:.2f}%)')\n",
        "print(f'Кол-во пользователей только c фичами - {users_only_features} ({users_only_features / total_users * 100:.2f}%)')"
      ],
      "metadata": {
        "colab": {
          "base_uri": "https://localhost:8080/"
        },
        "id": "Q5AUQ8J7kW1V",
        "outputId": "50efc8cd-e3ec-40d3-eb35-7c6970e23b3a"
      },
      "execution_count": null,
      "outputs": [
        {
          "output_type": "stream",
          "name": "stdout",
          "text": [
            "Кол-во пользователей - 34403\n",
            "Кол-во пользователей c взаимодействиями и фичами - 30755 (89.40%)\n",
            "Кол-во пользователей только c взаимодействиями - 0 (0.00%)\n",
            "Кол-во пользователей только c фичами - 3648 (10.60%)\n"
          ]
        }
      ]
    },
    {
      "cell_type": "code",
      "source": [
        "interaction_users = test['msno'].unique()\n",
        "\n",
        "common_users = len(np.intersect1d(interaction_users, members['msno']))\n",
        "users_only_in_interaction = len(np.setdiff1d(interaction_users, members['msno']))\n",
        "users_only_features = len(np.setdiff1d(members['msno'], interaction_users))\n",
        "total_users = common_users + users_only_in_interaction + users_only_features\n",
        "print(f'Кол-во пользователей - {total_users}')\n",
        "print(f'Кол-во пользователей c взаимодействиями и фичами - {common_users} ({common_users / total_users * 100:.2f}%)')\n",
        "print(f'Кол-во пользователей только c взаимодействиями - {users_only_in_interaction} ({users_only_in_interaction / total_users * 100:.2f}%)')\n",
        "print(f'Кол-во пользователей только c фичами - {users_only_features} ({users_only_features / total_users * 100:.2f}%)')"
      ],
      "metadata": {
        "colab": {
          "base_uri": "https://localhost:8080/"
        },
        "id": "m1Az-lbJkaLc",
        "outputId": "6935e02b-65aa-4932-aecc-a671afb43af8"
      },
      "execution_count": null,
      "outputs": [
        {
          "output_type": "stream",
          "name": "stdout",
          "text": [
            "Кол-во пользователей - 34403\n",
            "Кол-во пользователей c взаимодействиями и фичами - 25131 (73.05%)\n",
            "Кол-во пользователей только c взаимодействиями - 0 (0.00%)\n",
            "Кол-во пользователей только c фичами - 9272 (26.95%)\n"
          ]
        }
      ]
    },
    {
      "cell_type": "markdown",
      "source": [
        "## EDA"
      ],
      "metadata": {
        "id": "xDPwKQXTdAyt"
      }
    },
    {
      "cell_type": "code",
      "source": [
        "members.gender.value_counts(dropna=False).plot(kind='bar')\n",
        "plt.title('Users listening to same song by gender')\n",
        "plt.xlabel('gender')\n",
        "plt.ylabel(\"count\")\n",
        "plt.show()"
      ],
      "metadata": {
        "colab": {
          "base_uri": "https://localhost:8080/",
          "height": 551
        },
        "id": "W3HUXsCtdDDg",
        "outputId": "b5e1b4f9-95c8-4243-e91e-5a4c0e3afde4"
      },
      "execution_count": null,
      "outputs": [
        {
          "output_type": "display_data",
          "data": {
            "text/plain": [
              "<Figure size 640x480 with 1 Axes>"
            ],
            "image/png": "[encoded data removed]"
          },
          "metadata": {}
        }
      ]
    },
    {
      "cell_type": "markdown",
      "source": [
        "У большого количества пользователей возраст не известен, но среди известных кол-во мужчин и женщин примерно равно"
      ],
      "metadata": {
        "id": "Ym9WuuRJg496"
      }
    },
    {
      "cell_type": "code",
      "source": [
        "members.city.value_counts().plot(kind='bar')\n",
        "plt.title('repeat users by city')\n",
        "plt.xlabel('city')\n",
        "plt.ylabel('count')\n",
        "plt.show()"
      ],
      "metadata": {
        "colab": {
          "base_uri": "https://localhost:8080/",
          "height": 475
        },
        "id": "HxO32AeldthK",
        "outputId": "95d780e1-21a3-41d8-cb54-01521c595efd"
      },
      "execution_count": null,
      "outputs": [
        {
          "output_type": "display_data",
          "data": {
            "text/plain": [
              "<Figure size 640x480 with 1 Axes>"
            ],
            "image/png": "[encoded data removed]"
          },
          "metadata": {}
        }
      ]
    },
    {
      "cell_type": "code",
      "source": [
        "songs.genre_ids.value_counts()[:35].plot(kind='bar')\n",
        "plt.title('genre of most listened to songs')\n",
        "plt.xlabel('genre')\n",
        "plt.ylabel('count')\n",
        "plt.show()"
      ],
      "metadata": {
        "colab": {
          "base_uri": "https://localhost:8080/",
          "height": 568
        },
        "id": "5VfyERWId5wr",
        "outputId": "3c9d2f42-f369-4e8e-f955-45a3b4da678f"
      },
      "execution_count": null,
      "outputs": [
        {
          "output_type": "display_data",
          "data": {
            "text/plain": [
              "<Figure size 640x480 with 1 Axes>"
            ],
            "image/png": "[encoded data removed]"
          },
          "metadata": {}
        }
      ]
    },
    {
      "cell_type": "code",
      "source": [
        "songs.language.value_counts().plot(kind='bar')\n",
        "plt.title('Language of most common songs')\n",
        "plt.ylabel('Count')\n",
        "plt.xlabel('Language')\n",
        "plt.show()"
      ],
      "metadata": {
        "colab": {
          "base_uri": "https://localhost:8080/",
          "height": 488
        },
        "id": "RxdQfvh2eOp0",
        "outputId": "8d6bf81f-861d-4879-ec87-162463e836aa"
      },
      "execution_count": null,
      "outputs": [
        {
          "output_type": "display_data",
          "data": {
            "text/plain": [
              "<Figure size 640x480 with 1 Axes>"
            ],
            "image/png": "[encoded data removed]"
          },
          "metadata": {}
        }
      ]
    },
    {
      "cell_type": "code",
      "source": [
        "members.bd.value_counts().plot(kind='bar')\n",
        "plt.title('Age of members')\n",
        "plt.ylabel('Count')\n",
        "plt.xlabel('Age')\n",
        "plt.show()"
      ],
      "metadata": {
        "colab": {
          "base_uri": "https://localhost:8080/",
          "height": 500
        },
        "id": "gz_cR5WSf9z3",
        "outputId": "fc3c3ac8-a35c-468a-dd84-3ea1adfa30d2"
      },
      "execution_count": null,
      "outputs": [
        {
          "output_type": "display_data",
          "data": {
            "text/plain": [
              "<Figure size 640x480 with 1 Axes>"
            ],
            "image/png": "[encoded data removed]"
          },
          "metadata": {}
        }
      ]
    },
    {
      "cell_type": "markdown",
      "source": [
        "Видим аномальное значение в столбце 0_10.\n",
        "Это может быть связано с ошибочным вводом возраста пользователями или сбоем в данных"
      ],
      "metadata": {
        "id": "_XokCIrsgaX2"
      }
    },
    {
      "cell_type": "markdown",
      "metadata": {
        "id": "FRf41yQ03Nqx"
      },
      "source": [
        "## Построение модели"
      ]
    },
    {
      "cell_type": "markdown",
      "source": [
        "Перейдем к построению модели. Я остановил сво выбор на LightFM\n",
        "Гибридный подход:\n",
        "### Основные преимущества алгоритма LightFM:\n",
        "\n",
        "1. **Гибридный подход**:\n",
        "   - LightFM может использовать как коллаборативные (поведение пользователей), так и контентные данные (свойства объектов и пользователей), что позволяет делать рекомендации даже в случае холодного старта, когда о пользователе или объекте мало информации.\n",
        "\n",
        "2. **Эффективность при разреженных данных**:\n",
        "   - Модель хорошо работает с большими, разреженными наборами данных, что часто встречается в рекомендательных системах, где многие пользователи взаимодействуют только с ограниченным количеством объектов.\n",
        "\n",
        "3. **Масштабируемость**:\n",
        "   - Алгоритм спроектирован таким образом, чтобы быть масштабируемым и эффективно работать на больших наборах данных, используя многопоточность для ускорения вычислений.\n",
        "\n",
        "4. **Поддержка различных функций потерь**:\n",
        "   - LightFM поддерживает несколько функций потерь, включая логистическую регрессию, BPR (Bayesian Personalised Ranking) и WARP (Weighted Approximate-Rank Pairwise), что делает его гибким в выборе метода оптимизации в зависимости от конкретных задач.\n",
        "\n",
        "5. **Поддержка пользовательских и объектных признаков**:\n",
        "   - Модель может интегрировать дополнительные признаки для пользователей и объектов (например, возраст пользователя, жанр фильма), улучшая качество рекомендаций.\n",
        "\n",
        "6. **Воспроизводимость результатов**:\n",
        "   - LightFM позволяет установить `random_state`, обеспечивающий воспроизводимость результатов при экспериментах и тестировании.\n",
        "\n",
        "7. **Простота использования**:\n",
        "   - Библиотека LightFM предоставляет простой и интуитивно понятный API, который упрощает создание, обучение и применение рекомендательных моделей.\n",
        "\n",
        "8. **Разнообразие рекомендаций**:\n",
        "   - Функция потерь WARP эффективно работает на задачах, где важно не просто предсказать наиболее релевантные объекты, но и обеспечить разнообразие в рекомендациях.\n",
        "\n"
      ],
      "metadata": {
        "id": "4tINVsRViET9"
      }
    },
    {
      "cell_type": "markdown",
      "source": [
        "Создадим списки признаков для пользователей и песен"
      ],
      "metadata": {
        "id": "TBL4D7V8lRzL"
      }
    },
    {
      "cell_type": "code",
      "source": [
        "user_features = list(members['gender'].unique()) + list(members['city'].unique()) + list(members['bd'].unique())"
      ],
      "metadata": {
        "id": "LvvRJkrm7ReZ"
      },
      "execution_count": null,
      "outputs": []
    },
    {
      "cell_type": "code",
      "source": [
        "item_features = list(songs['genre_ids'].str.split('|').explode().unique()) + list(songs['composer'].str.split('|').explode().unique()) + list(songs['lyrycist'].str.split('|').explode().unique()) + list(songs['artist_name'].str.split('|').explode().unique()) + list(songs['language'].unique())"
      ],
      "metadata": {
        "id": "8cNZPbHf7ovU"
      },
      "execution_count": null,
      "outputs": []
    },
    {
      "cell_type": "code",
      "source": [
        "from lightfm.data import Dataset\n",
        "from lightfm import LightFM"
      ],
      "metadata": {
        "id": "8dCXchW678WK"
      },
      "execution_count": null,
      "outputs": []
    },
    {
      "cell_type": "code",
      "source": [
        "dataset = Dataset()"
      ],
      "metadata": {
        "id": "MDzLUA1P8DYL"
      },
      "execution_count": null,
      "outputs": []
    },
    {
      "cell_type": "code",
      "source": [
        "dataset.fit(\n",
        "    users=pd.concat([train['msno'], test['msno']]).unique(),\n",
        "    user_features=user_features,\n",
        "    items=pd.concat([train['song_id'], test['song_id']]).unique(),\n",
        "    item_features=item_features\n",
        ")"
      ],
      "metadata": {
        "id": "tIZyx2Kv8Fhi"
      },
      "execution_count": null,
      "outputs": []
    },
    {
      "cell_type": "code",
      "source": [
        "num_users, num_items = dataset.interactions_shape()\n",
        "num_users, num_items"
      ],
      "metadata": {
        "colab": {
          "base_uri": "https://localhost:8080/"
        },
        "id": "hS9iEa0D8lr4",
        "outputId": "561e57df-0249-462f-9ecc-07bc13c8e64d"
      },
      "execution_count": null,
      "outputs": [
        {
          "output_type": "execute_result",
          "data": {
            "text/plain": [
              "(34403, 419839)"
            ]
          },
          "metadata": {},
          "execution_count": 42
        }
      ]
    },
    {
      "cell_type": "code",
      "source": [
        "lightfm_mapping = dataset.mapping()\n",
        "lightfm_mapping = {\n",
        "    'users_mapping': lightfm_mapping[0],\n",
        "    'user_features_mapping': lightfm_mapping[1],\n",
        "    'items_mapping': lightfm_mapping[2],\n",
        "    'item_features_mapping': lightfm_mapping[3],\n",
        "}\n",
        "print('users_mapping len - ', len(lightfm_mapping['users_mapping']))\n",
        "print('user_features_mapping len - ', len(lightfm_mapping['user_features_mapping']))\n",
        "print('items_mapping len - ', len(lightfm_mapping['items_mapping']))\n",
        "print('Users item_features_mapping len - ', len(lightfm_mapping['item_features_mapping']))"
      ],
      "metadata": {
        "colab": {
          "base_uri": "https://localhost:8080/"
        },
        "id": "QY2n0Kmb8m6P",
        "outputId": "3750275a-89eb-42d2-8fce-190784339143"
      },
      "execution_count": null,
      "outputs": [
        {
          "output_type": "stream",
          "name": "stdout",
          "text": [
            "users_mapping len -  34403\n",
            "user_features_mapping len -  34434\n",
            "items_mapping len -  419839\n",
            "Users item_features_mapping len -  1001985\n"
          ]
        }
      ]
    },
    {
      "cell_type": "code",
      "source": [
        "lightfm_mapping['users_inv_mapping'] = {v: k for k, v in lightfm_mapping['users_mapping'].items()}\n",
        "lightfm_mapping['items_inv_mapping'] = {v: k for k, v in lightfm_mapping['items_mapping'].items()}"
      ],
      "metadata": {
        "id": "3fWdnoKQ8u7L"
      },
      "execution_count": null,
      "outputs": []
    },
    {
      "cell_type": "code",
      "source": [
        "num_user_features = dataset.user_features_shape()\n",
        "num_show_features = dataset.item_features_shape()\n",
        "print('Num user features: {} -> {}\\nnum item features: {} -> {}.'.format(\n",
        "    num_user_features[1] - num_users, num_user_features[1],\n",
        "    num_show_features[1] - num_items, num_show_features[1]))"
      ],
      "metadata": {
        "colab": {
          "base_uri": "https://localhost:8080/"
        },
        "id": "PGdJMwd28xLN",
        "outputId": "980a6d07-0b91-4464-89ab-105d4ac0347f"
      },
      "execution_count": null,
      "outputs": [
        {
          "output_type": "stream",
          "name": "stdout",
          "text": [
            "Num user features: 31 -> 34434\n",
            "num item features: 582146 -> 1001985.\n"
          ]
        }
      ]
    },
    {
      "cell_type": "code",
      "source": [
        "def df_to_tuple_iterator(df):\n",
        "    return zip(*df.values.T)\n",
        "\n",
        "def concat_last_to_list(t):\n",
        "    return (t[0], list(t[1:])[0])\n",
        "\n",
        "def df_to_tuple_list_iterator(df):\n",
        "    return map(concat_last_to_list, zip(*df.values.T))"
      ],
      "metadata": {
        "id": "-7ymgHxF8ziN"
      },
      "execution_count": null,
      "outputs": []
    },
    {
      "cell_type": "code",
      "source": [
        "train_mat, train_mat_weights = dataset.build_interactions(df_to_tuple_iterator(train[['msno', 'song_id']]))\n",
        "train_mat"
      ],
      "metadata": {
        "colab": {
          "base_uri": "https://localhost:8080/"
        },
        "id": "MnINerLM82dr",
        "outputId": "7d4a9838-39ff-4a71-a0cc-1f8e5fe951e3"
      },
      "execution_count": null,
      "outputs": [
        {
          "output_type": "execute_result",
          "data": {
            "text/plain": [
              "<34403x419839 sparse matrix of type '<class 'numpy.int32'>'\n",
              "\twith 7377418 stored elements in COOrdinate format>"
            ]
          },
          "metadata": {},
          "execution_count": 47
        }
      ]
    },
    {
      "cell_type": "code",
      "source": [
        "train_mat_weights"
      ],
      "metadata": {
        "colab": {
          "base_uri": "https://localhost:8080/"
        },
        "id": "Pl3d7VFX9Jwg",
        "outputId": "eea978ec-3b86-4817-fd54-5ec0ac4340ac"
      },
      "execution_count": null,
      "outputs": [
        {
          "output_type": "execute_result",
          "data": {
            "text/plain": [
              "<34403x419839 sparse matrix of type '<class 'numpy.float32'>'\n",
              "\twith 7377418 stored elements in COOrdinate format>"
            ]
          },
          "metadata": {},
          "execution_count": 48
        }
      ]
    },
    {
      "cell_type": "code",
      "source": [
        "members['features'] = members[['bd', 'gender', 'city']].astype(str).apply(lambda x: list(x), axis=1)\n",
        "members.head()"
      ],
      "metadata": {
        "colab": {
          "base_uri": "https://localhost:8080/",
          "height": 206
        },
        "id": "5i0K8XMJ9L5e",
        "outputId": "11b7433a-af7c-406b-9151-0e060f04336e"
      },
      "execution_count": null,
      "outputs": [
        {
          "output_type": "execute_result",
          "data": {
            "text/plain": [
              "                                           msno city    bd       gender  \\\n",
              "0  XQxgAYj3klVKjR3oxPPXYYFp4soD4TuBghkhMTD4oTw=    1  0_10  sex_unknown   \n",
              "1  UizsfmJb9mV54qE9hCYyU07Va97c0lCRLEQX3ae+ztM=    1  0_10  sex_unknown   \n",
              "2  D8nEhsIOBSoE6VthTaqDX8U6lqjJ7dLdr72mOyLya2A=    1  0_10  sex_unknown   \n",
              "3  mCuD+tZ1hERA/o5GPqk38e041J8ZsBaLcu7nGoIIvhI=    1  0_10  sex_unknown   \n",
              "4  q4HRBfVSssAFS9iRfxWrohxuk9kCYMKjHOEagUMV6rQ=    1  0_10  sex_unknown   \n",
              "\n",
              "                 features  \n",
              "0  [0_10, sex_unknown, 1]  \n",
              "1  [0_10, sex_unknown, 1]  \n",
              "2  [0_10, sex_unknown, 1]  \n",
              "3  [0_10, sex_unknown, 1]  \n",
              "4  [0_10, sex_unknown, 1]  "
            ],
            "text/html": [
              "\n",
              "  <div id=\"df-2023734b-5ecf-4599-a8cc-ed9b9b9ed397\" class=\"colab-df-container\">\n",
              "    <div>\n",
              "<style scoped>\n",
              "    .dataframe tbody tr th:only-of-type {\n",
              "        vertical-align: middle;\n",
              "    }\n",
              "\n",
              "    .dataframe tbody tr th {\n",
              "        vertical-align: top;\n",
              "    }\n",
              "\n",
              "    .dataframe thead th {\n",
              "        text-align: right;\n",
              "    }\n",
              "</style>\n",
              "<table border=\"1\" class=\"dataframe\">\n",
              "  <thead>\n",
              "    <tr style=\"text-align: right;\">\n",
              "      <th></th>\n",
              "      <th>msno</th>\n",
              "      <th>city</th>\n",
              "      <th>bd</th>\n",
              "      <th>gender</th>\n",
              "      <th>features</th>\n",
              "    </tr>\n",
              "  </thead>\n",
              "  <tbody>\n",
              "    <tr>\n",
              "      <th>0</th>\n",
              "      <td>XQxgAYj3klVKjR3oxPPXYYFp4soD4TuBghkhMTD4oTw=</td>\n",
              "      <td>1</td>\n",
              "      <td>0_10</td>\n",
              "      <td>sex_unknown</td>\n",
              "      <td>[0_10, sex_unknown, 1]</td>\n",
              "    </tr>\n",
              "    <tr>\n",
              "      <th>1</th>\n",
              "      <td>UizsfmJb9mV54qE9hCYyU07Va97c0lCRLEQX3ae+ztM=</td>\n",
              "      <td>1</td>\n",
              "      <td>0_10</td>\n",
              "      <td>sex_unknown</td>\n",
              "      <td>[0_10, sex_unknown, 1]</td>\n",
              "    </tr>\n",
              "    <tr>\n",
              "      <th>2</th>\n",
              "      <td>D8nEhsIOBSoE6VthTaqDX8U6lqjJ7dLdr72mOyLya2A=</td>\n",
              "      <td>1</td>\n",
              "      <td>0_10</td>\n",
              "      <td>sex_unknown</td>\n",
              "      <td>[0_10, sex_unknown, 1]</td>\n",
              "    </tr>\n",
              "    <tr>\n",
              "      <th>3</th>\n",
              "      <td>mCuD+tZ1hERA/o5GPqk38e041J8ZsBaLcu7nGoIIvhI=</td>\n",
              "      <td>1</td>\n",
              "      <td>0_10</td>\n",
              "      <td>sex_unknown</td>\n",
              "      <td>[0_10, sex_unknown, 1]</td>\n",
              "    </tr>\n",
              "    <tr>\n",
              "      <th>4</th>\n",
              "      <td>q4HRBfVSssAFS9iRfxWrohxuk9kCYMKjHOEagUMV6rQ=</td>\n",
              "      <td>1</td>\n",
              "      <td>0_10</td>\n",
              "      <td>sex_unknown</td>\n",
              "      <td>[0_10, sex_unknown, 1]</td>\n",
              "    </tr>\n",
              "  </tbody>\n",
              "</table>\n",
              "</div>\n",
              "    <div class=\"colab-df-buttons\">\n",
              "\n",
              "  <div class=\"colab-df-container\">\n",
              "    <button class=\"colab-df-convert\" onclick=\"convertToInteractive('df-2023734b-5ecf-4599-a8cc-ed9b9b9ed397')\"\n",
              "            title=\"Convert this dataframe to an interactive table.\"\n",
              "            style=\"display:none;\">\n",
              "\n",
              "  <svg xmlns=\"http://www.w3.org/2000/svg\" height=\"24px\" viewBox=\"0 -960 960 960\">\n",
              "    <path d=\"M120-120v-720h720v720H120Zm60-500h600v-160H180v160Zm220 220h160v-160H400v160Zm0 220h160v-160H400v160ZM180-400h160v-160H180v160Zm440 0h160v-160H620v160ZM180-180h160v-160H180v160Zm440 0h160v-160H620v160Z\"/>\n",
              "  </svg>\n",
              "    </button>\n",
              "\n",
              "  <style>\n",
              "    .colab-df-container {\n",
              "      display:flex;\n",
              "      gap: 12px;\n",
              "    }\n",
              "\n",
              "    .colab-df-convert {\n",
              "      background-color: #E8F0FE;\n",
              "      border: none;\n",
              "      border-radius: 50%;\n",
              "      cursor: pointer;\n",
              "      display: none;\n",
              "      fill: #1967D2;\n",
              "      height: 32px;\n",
              "      padding: 0 0 0 0;\n",
              "      width: 32px;\n",
              "    }\n",
              "\n",
              "    .colab-df-convert:hover {\n",
              "      background-color: #E2EBFA;\n",
              "      box-shadow: 0px 1px 2px rgba(60, 64, 67, 0.3), 0px 1px 3px 1px rgba(60, 64, 67, 0.15);\n",
              "      fill: #174EA6;\n",
              "    }\n",
              "\n",
              "    .colab-df-buttons div {\n",
              "      margin-bottom: 4px;\n",
              "    }\n",
              "\n",
              "    [theme=dark] .colab-df-convert {\n",
              "      background-color: #3B4455;\n",
              "      fill: #D2E3FC;\n",
              "    }\n",
              "\n",
              "    [theme=dark] .colab-df-convert:hover {\n",
              "      background-color: #434B5C;\n",
              "      box-shadow: 0px 1px 3px 1px rgba(0, 0, 0, 0.15);\n",
              "      filter: drop-shadow(0px 1px 2px rgba(0, 0, 0, 0.3));\n",
              "      fill: #FFFFFF;\n",
              "    }\n",
              "  </style>\n",
              "\n",
              "    <script>\n",
              "      const buttonEl =\n",
              "        document.querySelector('#df-2023734b-5ecf-4599-a8cc-ed9b9b9ed397 button.colab-df-convert');\n",
              "      buttonEl.style.display =\n",
              "        google.colab.kernel.accessAllowed ? 'block' : 'none';\n",
              "\n",
              "      async function convertToInteractive(key) {\n",
              "        const element = document.querySelector('#df-2023734b-5ecf-4599-a8cc-ed9b9b9ed397');\n",
              "        const dataTable =\n",
              "          await google.colab.kernel.invokeFunction('convertToInteractive',\n",
              "                                                    [key], {});\n",
              "        if (!dataTable) return;\n",
              "\n",
              "        const docLinkHtml = 'Like what you see? Visit the ' +\n",
              "          '<a target=\"_blank\" href=https://colab.research.google.com/notebooks/data_table.ipynb>data table notebook</a>'\n",
              "          + ' to learn more about interactive tables.';\n",
              "        element.innerHTML = '';\n",
              "        dataTable['output_type'] = 'display_data';\n",
              "        await google.colab.output.renderOutput(dataTable, element);\n",
              "        const docLink = document.createElement('div');\n",
              "        docLink.innerHTML = docLinkHtml;\n",
              "        element.appendChild(docLink);\n",
              "      }\n",
              "    </script>\n",
              "  </div>\n",
              "\n",
              "\n",
              "<div id=\"df-a590e802-669d-49b6-8c23-f12991f6ff9d\">\n",
              "  <button class=\"colab-df-quickchart\" onclick=\"quickchart('df-a590e802-669d-49b6-8c23-f12991f6ff9d')\"\n",
              "            title=\"Suggest charts\"\n",
              "            style=\"display:none;\">\n",
              "\n",
              "<svg xmlns=\"http://www.w3.org/2000/svg\" height=\"24px\"viewBox=\"0 0 24 24\"\n",
              "     width=\"24px\">\n",
              "    <g>\n",
              "        <path d=\"M19 3H5c-1.1 0-2 .9-2 2v14c0 1.1.9 2 2 2h14c1.1 0 2-.9 2-2V5c0-1.1-.9-2-2-2zM9 17H7v-7h2v7zm4 0h-2V7h2v10zm4 0h-2v-4h2v4z\"/>\n",
              "    </g>\n",
              "</svg>\n",
              "  </button>\n",
              "\n",
              "<style>\n",
              "  .colab-df-quickchart {\n",
              "      --bg-color: #E8F0FE;\n",
              "      --fill-color: #1967D2;\n",
              "      --hover-bg-color: #E2EBFA;\n",
              "      --hover-fill-color: #174EA6;\n",
              "      --disabled-fill-color: #AAA;\n",
              "      --disabled-bg-color: #DDD;\n",
              "  }\n",
              "\n",
              "  [theme=dark] .colab-df-quickchart {\n",
              "      --bg-color: #3B4455;\n",
              "      --fill-color: #D2E3FC;\n",
              "      --hover-bg-color: #434B5C;\n",
              "      --hover-fill-color: #FFFFFF;\n",
              "      --disabled-bg-color: #3B4455;\n",
              "      --disabled-fill-color: #666;\n",
              "  }\n",
              "\n",
              "  .colab-df-quickchart {\n",
              "    background-color: var(--bg-color);\n",
              "    border: none;\n",
              "    border-radius: 50%;\n",
              "    cursor: pointer;\n",
              "    display: none;\n",
              "    fill: var(--fill-color);\n",
              "    height: 32px;\n",
              "    padding: 0;\n",
              "    width: 32px;\n",
              "  }\n",
              "\n",
              "  .colab-df-quickchart:hover {\n",
              "    background-color: var(--hover-bg-color);\n",
              "    box-shadow: 0 1px 2px rgba(60, 64, 67, 0.3), 0 1px 3px 1px rgba(60, 64, 67, 0.15);\n",
              "    fill: var(--button-hover-fill-color);\n",
              "  }\n",
              "\n",
              "  .colab-df-quickchart-complete:disabled,\n",
              "  .colab-df-quickchart-complete:disabled:hover {\n",
              "    background-color: var(--disabled-bg-color);\n",
              "    fill: var(--disabled-fill-color);\n",
              "    box-shadow: none;\n",
              "  }\n",
              "\n",
              "  .colab-df-spinner {\n",
              "    border: 2px solid var(--fill-color);\n",
              "    border-color: transparent;\n",
              "    border-bottom-color: var(--fill-color);\n",
              "    animation:\n",
              "      spin 1s steps(1) infinite;\n",
              "  }\n",
              "\n",
              "  @keyframes spin {\n",
              "    0% {\n",
              "      border-color: transparent;\n",
              "      border-bottom-color: var(--fill-color);\n",
              "      border-left-color: var(--fill-color);\n",
              "    }\n",
              "    20% {\n",
              "      border-color: transparent;\n",
              "      border-left-color: var(--fill-color);\n",
              "      border-top-color: var(--fill-color);\n",
              "    }\n",
              "    30% {\n",
              "      border-color: transparent;\n",
              "      border-left-color: var(--fill-color);\n",
              "      border-top-color: var(--fill-color);\n",
              "      border-right-color: var(--fill-color);\n",
              "    }\n",
              "    40% {\n",
              "      border-color: transparent;\n",
              "      border-right-color: var(--fill-color);\n",
              "      border-top-color: var(--fill-color);\n",
              "    }\n",
              "    60% {\n",
              "      border-color: transparent;\n",
              "      border-right-color: var(--fill-color);\n",
              "    }\n",
              "    80% {\n",
              "      border-color: transparent;\n",
              "      border-right-color: var(--fill-color);\n",
              "      border-bottom-color: var(--fill-color);\n",
              "    }\n",
              "    90% {\n",
              "      border-color: transparent;\n",
              "      border-bottom-color: var(--fill-color);\n",
              "    }\n",
              "  }\n",
              "</style>\n",
              "\n",
              "  <script>\n",
              "    async function quickchart(key) {\n",
              "      const quickchartButtonEl =\n",
              "        document.querySelector('#' + key + ' button');\n",
              "      quickchartButtonEl.disabled = true;  // To prevent multiple clicks.\n",
              "      quickchartButtonEl.classList.add('colab-df-spinner');\n",
              "      try {\n",
              "        const charts = await google.colab.kernel.invokeFunction(\n",
              "            'suggestCharts', [key], {});\n",
              "      } catch (error) {\n",
              "        console.error('Error during call to suggestCharts:', error);\n",
              "      }\n",
              "      quickchartButtonEl.classList.remove('colab-df-spinner');\n",
              "      quickchartButtonEl.classList.add('colab-df-quickchart-complete');\n",
              "    }\n",
              "    (() => {\n",
              "      let quickchartButtonEl =\n",
              "        document.querySelector('#df-a590e802-669d-49b6-8c23-f12991f6ff9d button');\n",
              "      quickchartButtonEl.style.display =\n",
              "        google.colab.kernel.accessAllowed ? 'block' : 'none';\n",
              "    })();\n",
              "  </script>\n",
              "</div>\n",
              "\n",
              "    </div>\n",
              "  </div>\n"
            ],
            "application/vnd.google.colaboratory.intrinsic+json": {
              "type": "dataframe",
              "variable_name": "members",
              "summary": "{\n  \"name\": \"members\",\n  \"rows\": 34403,\n  \"fields\": [\n    {\n      \"column\": \"msno\",\n      \"properties\": {\n        \"dtype\": \"string\",\n        \"num_unique_values\": 34403,\n        \"samples\": [\n          \"3psgxDUk5MbWBx1OBznTUafduIg3Q+gz5YlDepZfAr4=\",\n          \"eV+rKXB/wmr7MHrRyjEdnvISTFIigPtkcHn49cLB/LY=\",\n          \"sjzL4a6H0xqrqc/81AoGFqwElcyAM9nOkPjob/hjuSY=\"\n        ],\n        \"semantic_type\": \"\",\n        \"description\": \"\"\n      }\n    },\n    {\n      \"column\": \"city\",\n      \"properties\": {\n        \"dtype\": \"category\",\n        \"num_unique_values\": 21,\n        \"samples\": [\n          \"1\",\n          \"9\",\n          \"10\"\n        ],\n        \"semantic_type\": \"\",\n        \"description\": \"\"\n      }\n    },\n    {\n      \"column\": \"bd\",\n      \"properties\": {\n        \"dtype\": \"category\",\n        \"num_unique_values\": 7,\n        \"samples\": [\n          \"0_10\",\n          \"40_50\",\n          \"50_60\"\n        ],\n        \"semantic_type\": \"\",\n        \"description\": \"\"\n      }\n    },\n    {\n      \"column\": \"gender\",\n      \"properties\": {\n        \"dtype\": \"category\",\n        \"num_unique_values\": 3,\n        \"samples\": [\n          \"sex_unknown\",\n          \"female\",\n          \"male\"\n        ],\n        \"semantic_type\": \"\",\n        \"description\": \"\"\n      }\n    },\n    {\n      \"column\": \"features\",\n      \"properties\": {\n        \"dtype\": \"object\",\n        \"semantic_type\": \"\",\n        \"description\": \"\"\n      }\n    }\n  ]\n}"
            }
          },
          "metadata": {},
          "execution_count": 49
        }
      ]
    },
    {
      "cell_type": "code",
      "source": [
        "known_users_filter = members['msno'].isin(train['msno'].unique())"
      ],
      "metadata": {
        "id": "ite99NZW9bXU"
      },
      "execution_count": null,
      "outputs": []
    },
    {
      "cell_type": "code",
      "source": [
        "train_user_features = dataset.build_user_features(\n",
        "    df_to_tuple_list_iterator(\n",
        "        members.loc[known_users_filter, ['msno', 'features']]\n",
        "    )\n",
        ")\n",
        "train_user_features"
      ],
      "metadata": {
        "colab": {
          "base_uri": "https://localhost:8080/"
        },
        "id": "NCjU0Dkq9Y04",
        "outputId": "06e8693f-0a6d-4b42-fd3b-c21a0ce578f2"
      },
      "execution_count": null,
      "outputs": [
        {
          "output_type": "execute_result",
          "data": {
            "text/plain": [
              "<34403x34434 sparse matrix of type '<class 'numpy.float32'>'\n",
              "\twith 126668 stored elements in Compressed Sparse Row format>"
            ]
          },
          "metadata": {},
          "execution_count": 51
        }
      ]
    },
    {
      "cell_type": "code",
      "source": [
        "songs['features'] = songs[['genre_ids', 'language', 'artist_name', 'composer', 'lyrycist']].apply(lambda x: [str(i) for el in x for i in el.split('|') ], axis=1)"
      ],
      "metadata": {
        "id": "7S-th9G99tS6"
      },
      "execution_count": null,
      "outputs": []
    },
    {
      "cell_type": "code",
      "source": [
        "known_items_filter = songs['song_id'].isin(train['song_id'].unique())\n",
        "train_items_features = dataset.build_item_features(\n",
        "    df_to_tuple_list_iterator(\n",
        "        songs.loc[known_items_filter, ['song_id', 'features']]\n",
        "    )\n",
        ")\n",
        "train_items_features"
      ],
      "metadata": {
        "colab": {
          "base_uri": "https://localhost:8080/"
        },
        "id": "9NnmdCgzDhce",
        "outputId": "9e3847fc-a712-4deb-9166-b6d319ae7476"
      },
      "execution_count": null,
      "outputs": [
        {
          "output_type": "execute_result",
          "data": {
            "text/plain": [
              "<419839x1001985 sparse matrix of type '<class 'numpy.float32'>'\n",
              "\twith 2330603 stored elements in Compressed Sparse Row format>"
            ]
          },
          "metadata": {},
          "execution_count": 53
        }
      ]
    },
    {
      "cell_type": "code",
      "source": [
        "lfm_model = LightFM(no_components=64, learning_rate=0.05, loss='warp', max_sampled=5, random_state=23)"
      ],
      "metadata": {
        "id": "wUAwQVL2Dtvf"
      },
      "execution_count": null,
      "outputs": []
    },
    {
      "cell_type": "markdown",
      "source": [
        "### Обучение модели"
      ],
      "metadata": {
        "id": "6htOk9JOjOYt"
      }
    },
    {
      "cell_type": "code",
      "source": [
        "from tqdm.auto import tqdm"
      ],
      "metadata": {
        "id": "wMnJ3xt9D7I-"
      },
      "execution_count": null,
      "outputs": []
    },
    {
      "cell_type": "code",
      "source": [
        "num_epochs = 15\n",
        "for _ in tqdm(range(num_epochs), total=num_epochs):\n",
        "    lfm_model.fit_partial(\n",
        "        train_mat,\n",
        "        user_features=train_user_features,\n",
        "        item_features=train_items_features,\n",
        "        num_threads=4\n",
        "    )"
      ],
      "metadata": {
        "colab": {
          "base_uri": "https://localhost:8080/",
          "height": 49,
          "referenced_widgets": [
            "5d6862941d2b4a8d86b5056c5cb9be3d",
            "a8aaf175373d4f529fcbb3912fd44468",
            "4a5a5ee0b61546ba96e46a69b4ae13da",
            "939284b975504cb190a49dbc32cfaab1",
            "271c81938e48425ebfafad08283698ae",
            "291de0c27c874adc9d414ac20dfb42d3",
            "27d8a27784a24ec48f504b56b0385336",
            "c807cef172e34b1c8565ff20ebd05e9b",
            "f0af771211794e5f89422619097cdd8c",
            "bce2bfa0fce04c86a1127b85a805082c",
            "ce170347f533435780873a92f22cdd36"
          ]
        },
        "id": "SgB1DvRMENwm",
        "outputId": "55085d2a-1e4f-4e93-c2c8-0eca85ddf6a6"
      },
      "execution_count": null,
      "outputs": [
        {
          "output_type": "display_data",
          "data": {
            "text/plain": [
              "  0%|          | 0/15 [00:00<?, ?it/s]"
            ],
            "application/vnd.jupyter.widget-view+json": {
              "version_major": 2,
              "version_minor": 0,
              "model_id": "5d6862941d2b4a8d86b5056c5cb9be3d"
            }
          },
          "metadata": {}
        }
      ]
    },
    {
      "cell_type": "code",
      "source": [
        "top_N = 20 # размер топа рекомендаций"
      ],
      "metadata": {
        "id": "j4zp4YSUWlw2"
      },
      "execution_count": null,
      "outputs": []
    },
    {
      "cell_type": "code",
      "source": [
        "all_cols = list(lightfm_mapping['items_mapping'].values())"
      ],
      "metadata": {
        "id": "MysUCqwBFIyE"
      },
      "execution_count": null,
      "outputs": []
    },
    {
      "cell_type": "code",
      "source": [
        "item_titles = pd.Series(songs['genre_ids'].values, index=songs['song_id']).to_dict()"
      ],
      "metadata": {
        "id": "5b2LCKH8G3GW"
      },
      "execution_count": null,
      "outputs": []
    },
    {
      "cell_type": "markdown",
      "source": [
        "Предсказание на тесте"
      ],
      "metadata": {
        "id": "XA1TxzVkjT8A"
      }
    },
    {
      "cell_type": "code",
      "source": [
        "recs = pd.DataFrame({\n",
        "    'user_id': test['msno'].unique()\n",
        "})"
      ],
      "metadata": {
        "id": "gPt3aoMXJs4t"
      },
      "execution_count": null,
      "outputs": []
    },
    {
      "cell_type": "code",
      "source": [
        "def generate_lightfm_recs_mapper(model, item_ids, known_items, user_features, item_features, N, user_mapping, item_inv_mapping, num_threads=4):\n",
        "    def _recs_mapper(user):\n",
        "        user_id = user_mapping[user]\n",
        "        recs = model.predict(user_id, item_ids, user_features=user_features, item_features=item_features, num_threads=num_threads)\n",
        "\n",
        "        additional_N = len(known_items[user_id]) if user_id in known_items else 0\n",
        "        total_N = N + additional_N\n",
        "        top_cols = np.argpartition(recs, -np.arange(total_N))[-total_N:][::-1]\n",
        "\n",
        "        final_recs = [item_inv_mapping[item] for item in top_cols]\n",
        "        if additional_N > 0:\n",
        "            filter_items = known_items[user_id]\n",
        "            final_recs = [item for item in final_recs if item not in filter_items]\n",
        "        return final_recs[:N]\n",
        "    return _recs_mapper"
      ],
      "metadata": {
        "id": "pDgRpNKkJImh"
      },
      "execution_count": null,
      "outputs": []
    },
    {
      "cell_type": "code",
      "source": [
        "known_items = train.groupby('msno')['song_id'].apply(list).to_dict()"
      ],
      "metadata": {
        "id": "CKWfrsFKJQNo"
      },
      "execution_count": null,
      "outputs": []
    },
    {
      "cell_type": "code",
      "source": [
        "mapper = generate_lightfm_recs_mapper(\n",
        "    lfm_model,\n",
        "    item_ids=all_cols,\n",
        "    known_items=known_items,\n",
        "    N=top_N,\n",
        "    user_features=train_user_features,\n",
        "    item_features=train_items_features,\n",
        "    user_mapping=lightfm_mapping['users_mapping'],\n",
        "    item_inv_mapping=lightfm_mapping['items_inv_mapping'],\n",
        "    num_threads=4\n",
        ")"
      ],
      "metadata": {
        "id": "rFouK-3gRb_3"
      },
      "execution_count": null,
      "outputs": []
    },
    {
      "cell_type": "code",
      "source": [
        "recs['item_id'] = recs['user_id'].map(mapper)"
      ],
      "metadata": {
        "id": "vU3QSbrHResP"
      },
      "execution_count": null,
      "outputs": []
    },
    {
      "cell_type": "code",
      "source": [
        "def ndcg(df_true, df_pred, top_N):\n",
        "    result = {}\n",
        "    # Соединяем истинные данные и предсказания по индексам user_id и item_id\n",
        "    test_recs = df_true.set_index(['user_id', 'item_id']).join(df_pred.set_index(['user_id', 'item_id']))\n",
        "    test_recs = test_recs.sort_values(by=['user_id', 'rank'])\n",
        "\n",
        "    # Рассчитываем количество элементов по пользователям и обратный ранг\n",
        "    test_recs['users_item_count'] = test_recs.groupby(level='user_id')['rank'].transform(np.size)\n",
        "    test_recs['reciprocal_rank'] = (1 / test_recs['rank']).fillna(0)\n",
        "\n",
        "    # Считаем DCG@20\n",
        "    test_recs['dcg'] = (1 / np.log2(test_recs['rank'] + 1)).where(test_recs['rank'] <= top_N, 0)\n",
        "\n",
        "    # Группируем по пользователям и считаем DCG@20 для каждого пользователя\n",
        "    dcg = test_recs.groupby('user_id')['dcg'].sum()\n",
        "\n",
        "    # Сортируем данные для расчета идеального DCG\n",
        "    test_recs['ideal_rank'] = test_recs.groupby('user_id')['rank'].rank(method='first', ascending=True)\n",
        "    test_recs['idcg'] = (1 / np.log2(test_recs['ideal_rank'] + 1)).where(test_recs['ideal_rank'] <= top_N, 0)\n",
        "\n",
        "    # Группируем по пользователям и считаем IDCG@20 для каждого пользователя\n",
        "    idcg = test_recs.groupby('user_id')['idcg'].sum()\n",
        "\n",
        "    # Вычисляем NDCG@20 для каждого пользователя и берем среднее\n",
        "    ndcg = (dcg / idcg).fillna(0)\n",
        "    result[f'NDCG@{top_N}'] = ndcg.mean()\n",
        "\n",
        "    return pd.Series(result)\n"
      ],
      "metadata": {
        "id": "88TtirH-aaEG"
      },
      "execution_count": 13,
      "outputs": []
    },
    {
      "cell_type": "code",
      "source": [
        "recs = recs.explode('item_id')\n",
        "recs['rank'] = recs.groupby('user_id').cumcount() + 1"
      ],
      "metadata": {
        "id": "Zj28D938ag3E"
      },
      "execution_count": null,
      "outputs": []
    },
    {
      "cell_type": "markdown",
      "source": [
        "Сохраним ответы модели и оценим качетсво"
      ],
      "metadata": {
        "id": "OXWtFQ8rja7R"
      }
    },
    {
      "cell_type": "code",
      "source": [
        "path = '/content/drive/My Drive/predictions.csv'\n",
        "\n",
        "# Сохранение в CSV\n",
        "recs.to_csv(path, index=False)"
      ],
      "metadata": {
        "id": "ulNsbFuaZZDj"
      },
      "execution_count": null,
      "outputs": []
    },
    {
      "cell_type": "code",
      "source": [],
      "metadata": {
        "id": "Laphxwq6W_CN"
      },
      "execution_count": null,
      "outputs": []
    },
    {
      "cell_type": "code",
      "source": [
        "test = test.rename(columns={'msno': 'user_id', 'song_id': 'item_id'})"
      ],
      "metadata": {
        "id": "WbgNS9MygFPB"
      },
      "execution_count": 8,
      "outputs": []
    },
    {
      "cell_type": "markdown",
      "source": [
        "### Финальный скор"
      ],
      "metadata": {
        "id": "VRJ4K4EmWb3_"
      }
    },
    {
      "cell_type": "code",
      "source": [
        "recs = pd.read_csv(\"/content/drive/MyDrive/predictions.csv\")"
      ],
      "metadata": {
        "id": "wpLP0sxnXO5C"
      },
      "execution_count": 3,
      "outputs": []
    },
    {
      "cell_type": "code",
      "source": [
        "def compute_metrics(df_true, df_pred, top_N):\n",
        "    result = {}\n",
        "    test_recs = df_true.set_index(['user_id', 'item_id']).join(df_pred.set_index(['user_id', 'item_id']))\n",
        "    test_recs = test_recs.sort_values(by=['user_id', 'rank'])\n",
        "\n",
        "    test_recs['users_item_count'] = test_recs.groupby(level='user_id')['rank'].transform(np.size)\n",
        "    test_recs['reciprocal_rank'] = (1 / test_recs['rank']).fillna(0)\n",
        "    test_recs['cumulative_rank'] = test_recs.groupby(level='user_id').cumcount() + 1\n",
        "    test_recs['cumulative_rank'] = test_recs['cumulative_rank'] / test_recs['rank']\n",
        "\n",
        "    users_count = test_recs.index.get_level_values('user_id').nunique()\n",
        "    for k in range(1, top_N + 1):\n",
        "        hit_k = f'hit@{k}'\n",
        "        test_recs[hit_k] = test_recs['rank'] <= k\n",
        "        result[f'Precision@{k}'] = (test_recs[hit_k] / k).sum() / users_count\n",
        "        result[f'Recall@{k}'] = (test_recs[hit_k] / test_recs['users_item_count']).sum() / users_count\n",
        "\n",
        "    result[f'MAP@{top_N}'] = (test_recs[\"cumulative_rank\"] / test_recs[\"users_item_count\"]).sum() / users_count\n",
        "    result[f'MRR'] = test_recs.groupby(level='user_id')['reciprocal_rank'].max().mean()\n",
        "    return pd.Series(result)"
      ],
      "metadata": {
        "id": "pwb0IMV5Xdp4"
      },
      "execution_count": 4,
      "outputs": []
    },
    {
      "cell_type": "code",
      "source": [
        "metrics = compute_metrics(test,recs, 20)\n",
        "metrics"
      ],
      "metadata": {
        "colab": {
          "base_uri": "https://localhost:8080/"
        },
        "id": "pOAhK3OQYWM7",
        "outputId": "3beb43af-c775-4384-ec50-c4f2beb40434"
      },
      "execution_count": 19,
      "outputs": [
        {
          "output_type": "execute_result",
          "data": {
            "text/plain": [
              "Precision@1     0.087064\n",
              "Recall@1        0.002635\n",
              "Precision@2     0.080120\n",
              "Recall@2        0.004207\n",
              "Precision@3     0.076081\n",
              "Recall@3        0.005449\n",
              "Precision@4     0.073714\n",
              "Recall@4        0.006683\n",
              "Precision@5     0.072612\n",
              "Recall@5        0.008059\n",
              "Precision@6     0.071704\n",
              "Recall@6        0.009326\n",
              "Precision@7     0.070204\n",
              "Recall@7        0.010380\n",
              "Precision@8     0.069202\n",
              "Recall@8        0.011482\n",
              "Precision@9     0.068552\n",
              "Recall@9        0.012867\n",
              "Precision@10    0.067928\n",
              "Recall@10       0.013975\n",
              "Precision@11    0.067135\n",
              "Recall@11       0.015018\n",
              "Precision@12    0.066508\n",
              "Recall@12       0.016025\n",
              "Precision@13    0.065959\n",
              "Recall@13       0.017146\n",
              "Precision@14    0.065247\n",
              "Recall@14       0.018079\n",
              "Precision@15    0.064847\n",
              "Recall@15       0.019131\n",
              "Precision@16    0.064527\n",
              "Recall@16       0.020073\n",
              "Precision@17    0.064053\n",
              "Recall@17       0.021032\n",
              "Precision@18    0.063536\n",
              "Recall@18       0.021924\n",
              "Precision@19    0.063084\n",
              "Recall@19       0.022950\n",
              "Precision@20    0.062733\n",
              "Recall@20       0.023908\n",
              "MAP@20          0.008285\n",
              "MRR             0.163313\n",
              "dtype: float64"
            ]
          },
          "metadata": {},
          "execution_count": 19
        }
      ]
    },
    {
      "cell_type": "code",
      "source": [
        "metrics = ndcg(test, recs, 20)\n",
        "metrics"
      ],
      "metadata": {
        "colab": {
          "base_uri": "https://localhost:8080/"
        },
        "id": "Z_sxycLFhECd",
        "outputId": "71e63e0a-1eba-4dbd-9814-81a0a9d9969b"
      },
      "execution_count": 20,
      "outputs": [
        {
          "output_type": "execute_result",
          "data": {
            "text/plain": [
              "NDCG@20    0.231028\n",
              "dtype: float64"
            ]
          },
          "metadata": {},
          "execution_count": 20
        }
      ]
    },
    {
      "cell_type": "markdown",
      "source": [
        "## Общий вывод"
      ],
      "metadata": {
        "id": "xoBNHM2ya9wB"
      }
    },
    {
      "cell_type": "markdown",
      "source": [
        "Система довольно хорошо справляется с выдачей релевантных песен с учетом их разнообразия. Значение NDCG является хорошим, но также показывает, что существует потенциал для модификации рекомендательной системы."
      ],
      "metadata": {
        "id": "53I1HS4hbDq0"
      }
    }
  ],
  "metadata": {
    "colab": {
      "provenance": []
    },
    "kernelspec": {
      "display_name": "Python 3",
      "language": "python",
      "name": "python3"
    },
    "language_info": {
      "codemirror_mode": {
        "name": "ipython",
        "version": 3
      },
      "file_extension": ".py",
      "mimetype": "text/x-python",
      "name": "python",
      "nbconvert_exporter": "python",
      "pygments_lexer": "ipython3",
      "version": "3.10.14"
    },
    "widgets": {
      "application/vnd.jupyter.widget-state+json": {
        "5d6862941d2b4a8d86b5056c5cb9be3d": {
          "model_module": "@jupyter-widgets/controls",
          "model_name": "HBoxModel",
          "model_module_version": "1.5.0",
          "state": {
            "_dom_classes": [],
            "_model_module": "@jupyter-widgets/controls",
            "_model_module_version": "1.5.0",
            "_model_name": "HBoxModel",
            "_view_count": null,
            "_view_module": "@jupyter-widgets/controls",
            "_view_module_version": "1.5.0",
            "_view_name": "HBoxView",
            "box_style": "",
            "children": [
              "IPY_MODEL_a8aaf175373d4f529fcbb3912fd44468",
              "IPY_MODEL_4a5a5ee0b61546ba96e46a69b4ae13da",
              "IPY_MODEL_939284b975504cb190a49dbc32cfaab1"
            ],
            "layout": "IPY_MODEL_271c81938e48425ebfafad08283698ae"
          }
        },
        "a8aaf175373d4f529fcbb3912fd44468": {
          "model_module": "@jupyter-widgets/controls",
          "model_name": "HTMLModel",
          "model_module_version": "1.5.0",
          "state": {
            "_dom_classes": [],
            "_model_module": "@jupyter-widgets/controls",
            "_model_module_version": "1.5.0",
            "_model_name": "HTMLModel",
            "_view_count": null,
            "_view_module": "@jupyter-widgets/controls",
            "_view_module_version": "1.5.0",
            "_view_name": "HTMLView",
            "description": "",
            "description_tooltip": null,
            "layout": "IPY_MODEL_291de0c27c874adc9d414ac20dfb42d3",
            "placeholder": "​",
            "style": "IPY_MODEL_27d8a27784a24ec48f504b56b0385336",
            "value": "100%"
          }
        },
        "4a5a5ee0b61546ba96e46a69b4ae13da": {
          "model_module": "@jupyter-widgets/controls",
          "model_name": "FloatProgressModel",
          "model_module_version": "1.5.0",
          "state": {
            "_dom_classes": [],
            "_model_module": "@jupyter-widgets/controls",
            "_model_module_version": "1.5.0",
            "_model_name": "FloatProgressModel",
            "_view_count": null,
            "_view_module": "@jupyter-widgets/controls",
            "_view_module_version": "1.5.0",
            "_view_name": "ProgressView",
            "bar_style": "success",
            "description": "",
            "description_tooltip": null,
            "layout": "IPY_MODEL_c807cef172e34b1c8565ff20ebd05e9b",
            "max": 15,
            "min": 0,
            "orientation": "horizontal",
            "style": "IPY_MODEL_f0af771211794e5f89422619097cdd8c",
            "value": 15
          }
        },
        "939284b975504cb190a49dbc32cfaab1": {
          "model_module": "@jupyter-widgets/controls",
          "model_name": "HTMLModel",
          "model_module_version": "1.5.0",
          "state": {
            "_dom_classes": [],
            "_model_module": "@jupyter-widgets/controls",
            "_model_module_version": "1.5.0",
            "_model_name": "HTMLModel",
            "_view_count": null,
            "_view_module": "@jupyter-widgets/controls",
            "_view_module_version": "1.5.0",
            "_view_name": "HTMLView",
            "description": "",
            "description_tooltip": null,
            "layout": "IPY_MODEL_bce2bfa0fce04c86a1127b85a805082c",
            "placeholder": "​",
            "style": "IPY_MODEL_ce170347f533435780873a92f22cdd36",
            "value": " 15/15 [14:19&lt;00:00, 55.49s/it]"
          }
        },
        "271c81938e48425ebfafad08283698ae": {
          "model_module": "@jupyter-widgets/base",
          "model_name": "LayoutModel",
          "model_module_version": "1.2.0",
          "state": {
            "_model_module": "@jupyter-widgets/base",
            "_model_module_version": "1.2.0",
            "_model_name": "LayoutModel",
            "_view_count": null,
            "_view_module": "@jupyter-widgets/base",
            "_view_module_version": "1.2.0",
            "_view_name": "LayoutView",
            "align_content": null,
            "align_items": null,
            "align_self": null,
            "border": null,
            "bottom": null,
            "display": null,
            "flex": null,
            "flex_flow": null,
            "grid_area": null,
            "grid_auto_columns": null,
            "grid_auto_flow": null,
            "grid_auto_rows": null,
            "grid_column": null,
            "grid_gap": null,
            "grid_row": null,
            "grid_template_areas": null,
            "grid_template_columns": null,
            "grid_template_rows": null,
            "height": null,
            "justify_content": null,
            "justify_items": null,
            "left": null,
            "margin": null,
            "max_height": null,
            "max_width": null,
            "min_height": null,
            "min_width": null,
            "object_fit": null,
            "object_position": null,
            "order": null,
            "overflow": null,
            "overflow_x": null,
            "overflow_y": null,
            "padding": null,
            "right": null,
            "top": null,
            "visibility": null,
            "width": null
          }
        },
        "291de0c27c874adc9d414ac20dfb42d3": {
          "model_module": "@jupyter-widgets/base",
          "model_name": "LayoutModel",
          "model_module_version": "1.2.0",
          "state": {
            "_model_module": "@jupyter-widgets/base",
            "_model_module_version": "1.2.0",
            "_model_name": "LayoutModel",
            "_view_count": null,
            "_view_module": "@jupyter-widgets/base",
            "_view_module_version": "1.2.0",
            "_view_name": "LayoutView",
            "align_content": null,
            "align_items": null,
            "align_self": null,
            "border": null,
            "bottom": null,
            "display": null,
            "flex": null,
            "flex_flow": null,
            "grid_area": null,
            "grid_auto_columns": null,
            "grid_auto_flow": null,
            "grid_auto_rows": null,
            "grid_column": null,
            "grid_gap": null,
            "grid_row": null,
            "grid_template_areas": null,
            "grid_template_columns": null,
            "grid_template_rows": null,
            "height": null,
            "justify_content": null,
            "justify_items": null,
            "left": null,
            "margin": null,
            "max_height": null,
            "max_width": null,
            "min_height": null,
            "min_width": null,
            "object_fit": null,
            "object_position": null,
            "order": null,
            "overflow": null,
            "overflow_x": null,
            "overflow_y": null,
            "padding": null,
            "right": null,
            "top": null,
            "visibility": null,
            "width": null
          }
        },
        "27d8a27784a24ec48f504b56b0385336": {
          "model_module": "@jupyter-widgets/controls",
          "model_name": "DescriptionStyleModel",
          "model_module_version": "1.5.0",
          "state": {
            "_model_module": "@jupyter-widgets/controls",
            "_model_module_version": "1.5.0",
            "_model_name": "DescriptionStyleModel",
            "_view_count": null,
            "_view_module": "@jupyter-widgets/base",
            "_view_module_version": "1.2.0",
            "_view_name": "StyleView",
            "description_width": ""
          }
        },
        "c807cef172e34b1c8565ff20ebd05e9b": {
          "model_module": "@jupyter-widgets/base",
          "model_name": "LayoutModel",
          "model_module_version": "1.2.0",
          "state": {
            "_model_module": "@jupyter-widgets/base",
            "_model_module_version": "1.2.0",
            "_model_name": "LayoutModel",
            "_view_count": null,
            "_view_module": "@jupyter-widgets/base",
            "_view_module_version": "1.2.0",
            "_view_name": "LayoutView",
            "align_content": null,
            "align_items": null,
            "align_self": null,
            "border": null,
            "bottom": null,
            "display": null,
            "flex": null,
            "flex_flow": null,
            "grid_area": null,
            "grid_auto_columns": null,
            "grid_auto_flow": null,
            "grid_auto_rows": null,
            "grid_column": null,
            "grid_gap": null,
            "grid_row": null,
            "grid_template_areas": null,
            "grid_template_columns": null,
            "grid_template_rows": null,
            "height": null,
            "justify_content": null,
            "justify_items": null,
            "left": null,
            "margin": null,
            "max_height": null,
            "max_width": null,
            "min_height": null,
            "min_width": null,
            "object_fit": null,
            "object_position": null,
            "order": null,
            "overflow": null,
            "overflow_x": null,
            "overflow_y": null,
            "padding": null,
            "right": null,
            "top": null,
            "visibility": null,
            "width": null
          }
        },
        "f0af771211794e5f89422619097cdd8c": {
          "model_module": "@jupyter-widgets/controls",
          "model_name": "ProgressStyleModel",
          "model_module_version": "1.5.0",
          "state": {
            "_model_module": "@jupyter-widgets/controls",
            "_model_module_version": "1.5.0",
            "_model_name": "ProgressStyleModel",
            "_view_count": null,
            "_view_module": "@jupyter-widgets/base",
            "_view_module_version": "1.2.0",
            "_view_name": "StyleView",
            "bar_color": null,
            "description_width": ""
          }
        },
        "bce2bfa0fce04c86a1127b85a805082c": {
          "model_module": "@jupyter-widgets/base",
          "model_name": "LayoutModel",
          "model_module_version": "1.2.0",
          "state": {
            "_model_module": "@jupyter-widgets/base",
            "_model_module_version": "1.2.0",
            "_model_name": "LayoutModel",
            "_view_count": null,
            "_view_module": "@jupyter-widgets/base",
            "_view_module_version": "1.2.0",
            "_view_name": "LayoutView",
            "align_content": null,
            "align_items": null,
            "align_self": null,
            "border": null,
            "bottom": null,
            "display": null,
            "flex": null,
            "flex_flow": null,
            "grid_area": null,
            "grid_auto_columns": null,
            "grid_auto_flow": null,
            "grid_auto_rows": null,
            "grid_column": null,
            "grid_gap": null,
            "grid_row": null,
            "grid_template_areas": null,
            "grid_template_columns": null,
            "grid_template_rows": null,
            "height": null,
            "justify_content": null,
            "justify_items": null,
            "left": null,
            "margin": null,
            "max_height": null,
            "max_width": null,
            "min_height": null,
            "min_width": null,
            "object_fit": null,
            "object_position": null,
            "order": null,
            "overflow": null,
            "overflow_x": null,
            "overflow_y": null,
            "padding": null,
            "right": null,
            "top": null,
            "visibility": null,
            "width": null
          }
        },
        "ce170347f533435780873a92f22cdd36": {
          "model_module": "@jupyter-widgets/controls",
          "model_name": "DescriptionStyleModel",
          "model_module_version": "1.5.0",
          "state": {
            "_model_module": "@jupyter-widgets/controls",
            "_model_module_version": "1.5.0",
            "_model_name": "DescriptionStyleModel",
            "_view_count": null,
            "_view_module": "@jupyter-widgets/base",
            "_view_module_version": "1.2.0",
            "_view_name": "StyleView",
            "description_width": ""
          }
        }
      }
    }
  },
  "nbformat": 4,
  "nbformat_minor": 0
}